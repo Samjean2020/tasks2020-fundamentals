{
 "cells": [
  {
   "cell_type": "markdown",
   "metadata": {},
   "source": [
    "#  Project 2020 \n",
    "## Fundamentals of Data Analysis¶\n",
    "## Due: last commit on or before January 8th, 2021"
   ]
  },
  {
   "cell_type": "markdown",
   "metadata": {},
   "source": [
    "#### This is my solution to the Project assessment. The author is Jean Bonsenge (G00387887@gmit.ie).¶\n"
   ]
  },
  {
   "cell_type": "markdown",
   "metadata": {},
   "source": [
    "### Instructions\n",
    "In this project you must perform and explain simple linear regression using Python\n",
    "on the powerproduction dataset available on Moodle. The goal is to accurately predict\n",
    "wind turbine power output from wind speed values using the data set as a basis.\n",
    "Your submission must be in the form of a git repository containing, at a minimum, the\n",
    "following items:\n",
    "1. Jupyter notebook that performs simple linear regression on the data set.\n",
    "2. In that notebook, an explanation of your regression and an analysis of its accuracy.\n",
    "3. Standard items in a git repository such as a README.\n",
    "To enhance your submission, you might consider comparing simple linear regression to\n",
    "other types of regression on this data set. Rest assured, all the above concepts will be\n",
    "explored in lecture videos and other materials in the coming semester.\n"
   ]
  },
  {
   "cell_type": "markdown",
   "metadata": {},
   "source": []
  }
 ],
 "metadata": {
  "kernelspec": {
   "display_name": "Python 3",
   "language": "python",
   "name": "python3"
  },
  "language_info": {
   "codemirror_mode": {
    "name": "ipython",
    "version": 3
   },
   "file_extension": ".py",
   "mimetype": "text/x-python",
   "name": "python",
   "nbconvert_exporter": "python",
   "pygments_lexer": "ipython3",
   "version": "3.7.4"
  }
 },
 "nbformat": 4,
 "nbformat_minor": 2
}

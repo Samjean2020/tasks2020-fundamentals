{
 "cells": [
  {
   "cell_type": "markdown",
   "metadata": {},
   "source": [
    "### Tasks 2020\n",
    "### Fundamentals of Data Analysis\n",
    "### Due: last commit on or before December 18th, 2020 \n"
   ]
  },
  {
   "cell_type": "markdown",
   "metadata": {},
   "source": [
    "These are my solutions to the Tasks assessment. The author is Jean Bonsenge (G00387887@gmit.ie). "
   ]
  },
  {
   "cell_type": "markdown",
   "metadata": {},
   "source": [
    "# Task 1"
   ]
  },
  {
   "cell_type": "markdown",
   "metadata": {},
   "source": [
    "October 5th, 2020: Write a Python function called counts that takes a list as input\n",
    "and returns a dictionary of unique items in the list as keys and the number of times \n",
    "each item appears as values. So, the input ['A', 'A', 'B', 'C', 'A'] should have output {'A': 3, 'B': 1, 'C': 1} . \n",
    "Your code should not depend on any module from the standard library or otherwise. \n",
    "You should research the task first and include a description with references of your algorithm in the notebook.\n"
   ]
  },
  {
   "cell_type": "markdown",
   "metadata": {},
   "source": [
    "# Introduction "
   ]
  },
  {
   "cell_type": "markdown",
   "metadata": {},
   "source": [
    "We can solve the above task using the dict.get() method. This approach enables the program to work more efficiently with \n",
    "minimal algorithm. The function .get() by default will return None if the key is not present [1, 2]. As a built-in function\n",
    "in Python count() will return the frequency of a specified item in list [3]. A driver function enables the Python interpreter \n",
    "to read the source code [4, 5]. "
   ]
  },
  {
   "cell_type": "markdown",
   "metadata": {},
   "source": [
    "# References"
   ]
  },
  {
   "cell_type": "markdown",
   "metadata": {},
   "source": [
    "[1] Counting the frequencies in a list using dictionary in python: https://www.geeksforgeeks.org/counting-the-frequencies-in-a-list-using-dictionary-in-python/\n",
    "\n",
    "[2] Built-in Data Structures, Functions and Files in Python for Data Analysis: \n",
    "    Data Wrangling with Pandas, NumPy, and IPython: Wes McKinney (2018) (O’ Reilly)\n",
    "\n",
    "[3] Python-list-function-count: www.geeksforgeeks.org/python-list-function-count\n",
    "\n",
    "[4] What does if __name__ == “__main__”: do? https://stackoverflow.com/questions/419163/what-does-if-name-main-do \n",
    "\n",
    "[5] File Formats Wiki “Python source file”:  https://fileformats.fandom.com/wiki/Python_source_file#:~:text=Python%20source%20files%20are%20files,up%20to%20display%20the%20output\n",
    "\n",
    "\n"
   ]
  },
  {
   "cell_type": "markdown",
   "metadata": {},
   "source": [
    "# Algorithm and comments "
   ]
  },
  {
   "cell_type": "code",
   "execution_count": 1,
   "metadata": {},
   "outputs": [
    {
     "name": "stdout",
     "output_type": "stream",
     "text": [
      "{'A': 3, 'B': 1, 'C': 1}\n"
     ]
    }
   ],
   "source": [
    "def counts(L):\n",
    "# A function that takes a list as input and returns a dictionary of unique items in the list\n",
    "# as keys and the number of times each item appears as values.\n",
    "\n",
    "# Create an empty dictionary where converted \n",
    "# list (L) will be stored. \n",
    "  count = {} \n",
    "# Set a for loop to loop over the bloc.\n",
    "  for i in [ 'A', 'A', 'B', 'C', 'A']:\n",
    "    count[i] = count.get (i, 0) +1 \n",
    "  return count\n",
    "# Use driver function to read the script.\n",
    "if __name__ == \"__main__\":\n",
    "   L = ['A', 'A', 'B', 'C', 'A']\n",
    "# Call the print () to execute the program.\n",
    "print (counts(L))\n"
   ]
  },
  {
   "cell_type": "markdown",
   "metadata": {},
   "source": [
    "# Test of the function "
   ]
  },
  {
   "cell_type": "markdown",
   "metadata": {},
   "source": [
    "Here we test the function counts, whether or not  the input ['A', 'A', 'B', 'C', 'A'] should have output {'A': 3, 'B': 1, 'C': 1}. "
   ]
  },
  {
   "cell_type": "code",
   "execution_count": 2,
   "metadata": {},
   "outputs": [
    {
     "name": "stdout",
     "output_type": "stream",
     "text": [
      "{'A': 3, 'B': 1, 'C': 1}\n"
     ]
    }
   ],
   "source": [
    "def counts(L):\n",
    "    count = {}\n",
    "    for i in [ 'A', 'A', 'B', 'C', 'A']:\n",
    "        count[i] = count.get (i, 0) +1\n",
    "    return count\n",
    "if __name__ == \"__main__\":\n",
    "    L = ['A', 'A', 'B', 'C', 'A']\n",
    "print (counts(L))"
   ]
  },
  {
   "cell_type": "markdown",
   "metadata": {},
   "source": [
    "The expected output is as above. It comes out after executing the program for the first time.\n",
    "This program may fail when the Python function called counts()is undefined. \n"
   ]
  },
  {
   "cell_type": "markdown",
   "metadata": {},
   "source": [
    "<cr>"
   ]
  },
  {
   "cell_type": "markdown",
   "metadata": {},
   "source": [
    "# Task 2 "
   ]
  },
  {
   "cell_type": "markdown",
   "metadata": {},
   "source": [
    "November 2nd 2020: Write a Python function called dicerolls that simulates rooling dice.\n",
    "Your function should take two parameters: the number of dice K and the number of\n",
    "times to roll the dice n. The function should simulate randomly rolling K dice n times, \n",
    "keeping track of each total face value. It should return a dictionary with\n",
    "the number of times each possible total face value occured. So, calling the function \n",
    "dicerolls(K=2, n=1000) should return a dictionary like:\n",
    "\n",
    "{2:19, 3:50, 4: 82, 5:112, 6:135, 7:174, 8:133, 9:114, 10:75, 11:70, 12:36}\n",
    "\n",
    "You can use any module from the Python standard library you wish and you should include\n",
    "a description with refrences of your alogorithm in the notebook. "
   ]
  },
  {
   "cell_type": "markdown",
   "metadata": {},
   "source": [
    "## Introduction"
   ]
  },
  {
   "cell_type": "markdown",
   "metadata": {},
   "source": [
    "We can solve the above task using the defined function dicerolls including its 2 parameters on the argument as follows: def dicerolls (k=2, n=1000). We have to create a variable contained an empty dictionary to accommodate frequencies of rooling dice simulation. The algorithm below works well[1]; but needs the function dicerolls (k=2, n=1000) incorporated. \n",
    "The function dicerolls is incorporated now[2]"
   ]
  },
  {
   "cell_type": "markdown",
   "metadata": {},
   "source": [
    "## References"
   ]
  },
  {
   "cell_type": "markdown",
   "metadata": {},
   "source": [
    "[1]. Stack Overflow:  Rolling 2 dice 1000 times and counting the number of times the sum of the two dice hit: https://stackoverflow.com/questions/60343980/rolling-2-dice-1000-times-and-counting-the-number-of-times-the-sum-of-the-two-di\n",
    "[2].Towards Data Science, John Kundycki (Nov 12) \"Use Python to build a Dice Roller App: A simple step-by-step guide to building a Dice Rolling Simulator\": https://towardsdatascience.com/use-python-to-build-a-dice-roller-app-2408e66bf009"
   ]
  },
  {
   "cell_type": "code",
   "execution_count": 1,
   "metadata": {},
   "outputs": [
    {
     "name": "stdout",
     "output_type": "stream",
     "text": [
      "defaultdict(<class 'int'>, {})\n"
     ]
    }
   ],
   "source": [
    "# Import relevant modules\n",
    "import numpy as np\n",
    "from collections import defaultdict\n",
    "from random import randint\n",
    "\n",
    "# Set up a variable to allocate the default dictionary function.\n",
    "rolls = defaultdict(int)\n",
    "# Set a Python function to execute instructions within a block.\n",
    "def dicerolls(k=2, n=1000): # The function encapsulates 2 parameters or arguments.\n",
    "    # Set up a loop.\n",
    "        for _ in range(n):\n",
    "    # Randonly generate integers for the dice.\n",
    "         k = randint(2, 12)\n",
    "                  \n",
    "    # Increase the corresponding output by 1\n",
    "         rolls[k] += 1\n",
    "\n",
    "    # Print rolls.\n",
    "print(rolls)"
   ]
  },
  {
   "cell_type": "code",
   "execution_count": 2,
   "metadata": {},
   "outputs": [],
   "source": [
    "dicerolls(2, 1000)"
   ]
  },
  {
   "cell_type": "code",
   "execution_count": 3,
   "metadata": {},
   "outputs": [
    {
     "name": "stdout",
     "output_type": "stream",
     "text": [
      "defaultdict(<class 'int'>, {10: 94, 5: 91, 7: 77, 6: 84, 9: 92, 3: 108, 8: 79, 4: 86, 2: 104, 12: 87, 11: 98})\n"
     ]
    }
   ],
   "source": [
    "print(rolls)"
   ]
  },
  {
   "cell_type": "code",
   "execution_count": 4,
   "metadata": {},
   "outputs": [
    {
     "data": {
      "text/plain": [
       "defaultdict(int,\n",
       "            {10: 94,\n",
       "             5: 91,\n",
       "             7: 77,\n",
       "             6: 84,\n",
       "             9: 92,\n",
       "             3: 108,\n",
       "             8: 79,\n",
       "             4: 86,\n",
       "             2: 104,\n",
       "             12: 87,\n",
       "             11: 98})"
      ]
     },
     "execution_count": 4,
     "metadata": {},
     "output_type": "execute_result"
    }
   ],
   "source": [
    "rolls"
   ]
  },
  {
   "cell_type": "markdown",
   "metadata": {},
   "source": [
    "## Algorithm description"
   ]
  },
  {
   "cell_type": "code",
   "execution_count": null,
   "metadata": {},
   "outputs": [],
   "source": []
  },
  {
   "cell_type": "markdown",
   "metadata": {},
   "source": [
    "## Test the algorithm"
   ]
  },
  {
   "cell_type": "code",
   "execution_count": 8,
   "metadata": {},
   "outputs": [
    {
     "name": "stdout",
     "output_type": "stream",
     "text": [
      "defaultdict(<class 'int'>, {})\n"
     ]
    }
   ],
   "source": [
    "# Import relevant modules\n",
    "import numpy as np\n",
    "from collections import defaultdict\n",
    "from random import randint\n",
    "\n",
    "# Set up a variable to allocate the default dictionary function.\n",
    "rolls = defaultdict(int)\n",
    "# Set a Python function to execute instructions within a block.\n",
    "def dicerolls(k=2, n=10000): # The function encapsulates 2 parameters or arguments.\n",
    "    # Set up a loop.\n",
    "        for _ in range(n):\n",
    "    # Randonly generate integers for the dice.\n",
    "         k = randint(2, 12)\n",
    "                  \n",
    "    # Increase the corresponding output by 1\n",
    "         rolls[k] += 1\n",
    "\n",
    "    # Print rolls.\n",
    "print(rolls)"
   ]
  },
  {
   "cell_type": "code",
   "execution_count": 9,
   "metadata": {},
   "outputs": [],
   "source": [
    "# The parameter n is increased to 10000 and we call dicerolls function.\n",
    "dicerolls(2, 10000)"
   ]
  },
  {
   "cell_type": "code",
   "execution_count": 10,
   "metadata": {},
   "outputs": [
    {
     "name": "stdout",
     "output_type": "stream",
     "text": [
      "defaultdict(<class 'int'>, {12: 923, 7: 849, 10: 887, 2: 989, 11: 892, 4: 889, 6: 929, 3: 916, 5: 942, 9: 856, 8: 928})\n"
     ]
    }
   ],
   "source": [
    "# Call the print function to display the output in a dictionary.\n",
    "print(rolls)"
   ]
  },
  {
   "cell_type": "code",
   "execution_count": 11,
   "metadata": {},
   "outputs": [
    {
     "data": {
      "text/plain": [
       "defaultdict(int,\n",
       "            {12: 923,\n",
       "             7: 849,\n",
       "             10: 887,\n",
       "             2: 989,\n",
       "             11: 892,\n",
       "             4: 889,\n",
       "             6: 929,\n",
       "             3: 916,\n",
       "             5: 942,\n",
       "             9: 856,\n",
       "             8: 928})"
      ]
     },
     "execution_count": 11,
     "metadata": {},
     "output_type": "execute_result"
    }
   ],
   "source": [
    "# Reproducible result in a vertical shape.\n",
    "rolls"
   ]
  },
  {
   "cell_type": "markdown",
   "metadata": {},
   "source": [
    "The algorithm may fail if both parameters ( k=2, n=1000) are not defined in the argument of the function dicerolls."
   ]
  },
  {
   "cell_type": "markdown",
   "metadata": {},
   "source": [
    "<cr>"
   ]
  },
  {
   "cell_type": "markdown",
   "metadata": {},
   "source": [
    "# Task 3"
   ]
  },
  {
   "cell_type": "markdown",
   "metadata": {},
   "source": [
    "November 16th, 2020: The numpy.random.binomial function can be used to\n",
    "simulate flipping a coin with a 50/50 chance of heads or tails. Interestingly, if a\n",
    "coin is flipped many times then the number of heads is well approximated by a\n",
    "bell-shaped curve. For instance, if we flip a coin 100 times in a row the chance of\n",
    "getting 50 heads is relatively high, the chances of getting 0 or 100 heads is relatively\n",
    "low, and the chances of getting any other number of heads decreases as you move\n",
    "away from 50 in either direction towards 0 or 100. Write some python code that\n",
    "simulates flipping a coin 100 times. Then run this code 1,000 times, keeping track\n",
    "of the number of heads in each of the 1,000 simulations. Select an appropriate\n",
    "plot to depict the resulting list of 1,000 numbers, showing that it roughly follows\n",
    "a bell-shaped curve. You should explain your work in a Markdown cell above the\n",
    "code."
   ]
  },
  {
   "cell_type": "markdown",
   "metadata": {},
   "source": [
    "## Introduction\n",
    "\n",
    "We can solve this problem by using the numpy.random.binomial function. In numpy.random.Generator.binomial with a method as Generator.binomial(n, p, size=None) we can draw samples from a binomial distribution. Samples are drawn from a binomial distribution with specified parameters, n trials and p probability of success where n an integer >= 0 and p is in the interval [0,1]. (n may be input as a float, but it is truncated to an integer in use) [1]\n"
   ]
  },
  {
   "cell_type": "markdown",
   "metadata": {},
   "source": [
    "## References\n",
    "\n",
    "[1] NumPy \"numpy.random.Generator.binomial\": https://numpy.org/doc/stable/reference/random/generated/numpy.random.Generator.binomial.html#numpy.random.Generator.binomial"
   ]
  },
  {
   "cell_type": "markdown",
   "metadata": {},
   "source": [
    "## Development"
   ]
  },
  {
   "cell_type": "markdown",
   "metadata": {},
   "source": [
    "## Description of the code"
   ]
  },
  {
   "cell_type": "markdown",
   "metadata": {},
   "source": [
    "### Algorithm using the numpy.random.binomial function "
   ]
  },
  {
   "cell_type": "code",
   "execution_count": 13,
   "metadata": {},
   "outputs": [
    {
     "data": {
      "text/plain": [
       "0.0"
      ]
     },
     "execution_count": 13,
     "metadata": {},
     "output_type": "execute_result"
    }
   ],
   "source": [
    "# https://numpy.org/doc/stable/reference/random/generated/numpy.random.Generator.binomial.html#numpy.random.Generator.binomial\n",
    "# Draw samples from the distribution:\n",
    "# Import numpy and other necessary modules in Python\n",
    "import numpy as np\n",
    "import matplotlib.pyplot as plt\n",
    "import pandas as pd\n",
    "import seaborn as sns \n",
    "\n",
    "rng = np.random.default_rng()\n",
    "n, p = 100, .5  # number of trials, probability of each trial.\n",
    "\n",
    "s = rng.binomial(n, p, 1000)# number of time to run the code.\n",
    "\n",
    "# result of flipping a coin 100 times, tested 1000 times.\n",
    "\n",
    "sum(rng.binomial(100, 0.1, 1000) == 0)/1000.\n",
    "# answer = 0.38885, or 38%."
   ]
  },
  {
   "cell_type": "markdown",
   "metadata": {},
   "source": [
    "# Simulation"
   ]
  },
  {
   "cell_type": "code",
   "execution_count": 14,
   "metadata": {},
   "outputs": [
    {
     "data": {
      "text/plain": [
       "array([47, 49, 48, 50, 55, 47, 45, 50, 43, 52, 53, 45, 41, 49, 54, 52, 49,\n",
       "       49, 49, 52, 55, 45, 48, 52, 47, 52, 49, 54, 45, 49, 55, 49, 44, 46,\n",
       "       53, 42, 52, 53, 57, 40, 50, 60, 54, 42, 57, 44, 51, 42, 60, 47, 47,\n",
       "       52, 45, 59, 49, 50, 60, 51, 55, 50, 45, 49, 53, 52, 50, 49, 57, 52,\n",
       "       53, 46, 52, 44, 56, 47, 46, 50, 50, 52, 50, 46, 51, 46, 46, 54, 47,\n",
       "       45, 51, 49, 45, 49, 55, 62, 52, 51, 60, 46, 51, 62, 52, 52, 53, 54,\n",
       "       46, 39, 55, 48, 49, 44, 45, 45, 53, 47, 54, 51, 54, 52, 52, 46, 40,\n",
       "       56, 46, 53, 45, 49, 50, 55, 51, 47, 55, 49, 50, 54, 56, 51, 51, 54,\n",
       "       56, 50, 50, 49, 57, 49, 45, 56, 54, 51, 44, 47, 57, 48, 47, 52, 50,\n",
       "       43, 60, 59, 50, 52, 49, 55, 48, 42, 42, 45, 52, 45, 49, 49, 48, 46,\n",
       "       47, 56, 42, 64, 41, 50, 53, 49, 47, 49, 54, 60, 46, 48, 48, 59, 54,\n",
       "       50, 43, 42, 47, 48, 52, 39, 55, 56, 54, 51, 47, 56, 49, 59, 49, 47,\n",
       "       48, 47, 42, 47, 50, 51, 55, 58, 48, 44, 42, 39, 45, 55, 51, 50, 52,\n",
       "       48, 59, 46, 51, 49, 48, 48, 50, 49, 52, 46, 47, 47, 55, 52, 50, 55,\n",
       "       53, 58, 42, 54, 50, 46, 45, 42, 56, 50, 46, 56, 51, 49, 62, 49, 54,\n",
       "       60, 52, 51, 54, 52, 57, 46, 47, 45, 48, 47, 51, 47, 51, 56, 49, 53,\n",
       "       46, 49, 49, 50, 51, 48, 53, 42, 53, 55, 52, 50, 63, 51, 56, 44, 46,\n",
       "       46, 56, 47, 52, 52, 59, 47, 49, 45, 49, 54, 47, 54, 50, 50, 56, 43,\n",
       "       53, 56, 48, 46, 56, 50, 54, 43, 48, 54, 53, 50, 46, 46, 48, 53, 53,\n",
       "       54, 54, 46, 48, 42, 46, 41, 56, 53, 58, 52, 49, 48, 49, 44, 55, 51,\n",
       "       53, 46, 53, 49, 53, 40, 58, 44, 49, 56, 39, 49, 51, 52, 46, 54, 49,\n",
       "       51, 45, 49, 49, 50, 63, 49, 50, 50, 50, 56, 53, 45, 41, 56, 45, 54,\n",
       "       57, 55, 49, 55, 45, 42, 58, 60, 50, 47, 46, 47, 57, 54, 48, 55, 48,\n",
       "       50, 53, 47, 44, 45, 53, 53, 54, 53, 43, 48, 56, 56, 49, 49, 58, 54,\n",
       "       48, 48, 54, 42, 47, 50, 46, 49, 46, 50, 41, 50, 50, 53, 44, 44, 53,\n",
       "       44, 46, 50, 50, 46, 51, 50, 54, 50, 51, 45, 55, 56, 48, 47, 54, 47,\n",
       "       53, 49, 44, 46, 48, 41, 40, 49, 46, 37, 50, 48, 46, 51, 45, 54, 55,\n",
       "       46, 58, 48, 52, 43, 56, 43, 47, 58, 49, 50, 59, 48, 45, 36, 45, 49,\n",
       "       49, 56, 53, 44, 55, 53, 39, 52, 58, 52, 47, 47, 48, 54, 51, 54, 59,\n",
       "       55, 53, 46, 52, 49, 58, 48, 46, 46, 51, 56, 55, 39, 48, 50, 44, 46,\n",
       "       57, 47, 49, 50, 51, 55, 53, 49, 53, 43, 44, 51, 48, 47, 55, 58, 45,\n",
       "       51, 49, 57, 49, 44, 50, 51, 57, 57, 50, 51, 51, 50, 53, 49, 50, 49,\n",
       "       50, 42, 45, 49, 47, 50, 53, 40, 52, 50, 51, 56, 53, 43, 46, 50, 48,\n",
       "       53, 44, 56, 51, 44, 55, 49, 48, 50, 55, 46, 46, 61, 43, 45, 55, 47,\n",
       "       58, 52, 46, 54, 45, 56, 53, 43, 44, 48, 48, 49, 48, 50, 45, 51, 52,\n",
       "       58, 61, 45, 46, 48, 47, 44, 48, 46, 48, 53, 43, 58, 49, 44, 46, 47,\n",
       "       54, 51, 51, 53, 43, 49, 56, 48, 48, 54, 50, 57, 48, 39, 54, 55, 54,\n",
       "       56, 48, 57, 48, 46, 50, 40, 47, 42, 43, 40, 47, 54, 49, 53, 50, 58,\n",
       "       50, 56, 50, 47, 60, 46, 43, 61, 48, 46, 45, 46, 44, 48, 60, 51, 44,\n",
       "       47, 54, 54, 49, 48, 50, 51, 54, 49, 47, 50, 59, 53, 56, 54, 50, 48,\n",
       "       47, 51, 50, 45, 63, 54, 32, 47, 45, 47, 54, 51, 51, 49, 43, 48, 58,\n",
       "       56, 40, 42, 52, 51, 52, 49, 53, 52, 54, 55, 51, 35, 56, 50, 52, 39,\n",
       "       56, 46, 50, 51, 53, 43, 56, 49, 48, 52, 50, 46, 46, 53, 44, 53, 46,\n",
       "       61, 45, 54, 43, 43, 49, 45, 48, 50, 56, 47, 48, 40, 50, 41, 47, 52,\n",
       "       52, 53, 48, 54, 54, 44, 40, 58, 56, 53, 56, 54, 45, 48, 49, 53, 51,\n",
       "       51, 40, 54, 58, 49, 48, 54, 50, 49, 56, 45, 52, 48, 48, 45, 56, 52,\n",
       "       49, 55, 52, 52, 45, 56, 62, 50, 46, 49, 46, 43, 51, 48, 49, 47, 48,\n",
       "       43, 51, 45, 48, 46, 46, 56, 56, 57, 51, 51, 50, 56, 55, 52, 43, 45,\n",
       "       46, 43, 43, 56, 50, 53, 41, 53, 52, 44, 54, 44, 44, 45, 51, 51, 53,\n",
       "       58, 55, 40, 53, 59, 50, 47, 50, 61, 48, 42, 56, 53, 47, 38, 50, 44,\n",
       "       55, 58, 56, 54, 50, 50, 46, 52, 47, 52, 48, 48, 52, 51, 47, 54, 54,\n",
       "       50, 47, 43, 45, 48, 53, 46, 48, 48, 52, 51, 40, 60, 46, 51, 50, 48,\n",
       "       53, 53, 50, 49, 55, 49, 56, 53, 49, 43, 49, 46, 49, 47, 54, 47, 42,\n",
       "       50, 47, 43, 45, 50, 53, 51, 51, 43, 46, 54, 52, 48, 45, 54, 56, 48,\n",
       "       50, 53, 51, 55, 38, 57, 47, 55, 58, 54, 42, 54, 46, 51, 53, 51, 50,\n",
       "       45, 48, 40, 47, 53, 40, 53, 58, 53, 42, 59, 55, 49, 48, 40, 49, 52,\n",
       "       56, 45, 55, 54, 48, 53, 50, 52, 37, 47, 44, 51, 44, 49, 40, 52, 59,\n",
       "       54, 49, 50, 57, 45, 50, 54, 47, 64, 47, 49, 49, 45, 54, 47, 44, 49,\n",
       "       53, 55, 50, 46, 53, 52, 51, 56, 45, 55, 50, 52, 56, 46],\n",
       "      dtype=int64)"
      ]
     },
     "execution_count": 14,
     "metadata": {},
     "output_type": "execute_result"
    }
   ],
   "source": [
    "s"
   ]
  },
  {
   "cell_type": "code",
   "execution_count": 27,
   "metadata": {},
   "outputs": [
    {
     "data": {
      "text/plain": [
       "[<matplotlib.lines.Line2D at 0x90a0b98>]"
      ]
     },
     "execution_count": 27,
     "metadata": {},
     "output_type": "execute_result"
    },
    {
     "data": {
      "image/png": "[encoded data removed]",
      "text/plain": [
       "<Figure size 432x288 with 1 Axes>"
      ]
     },
     "metadata": {},
     "output_type": "display_data"
    }
   ],
   "source": [
    "plt.plot(s)"
   ]
  },
  {
   "cell_type": "code",
   "execution_count": 25,
   "metadata": {},
   "outputs": [
    {
     "data": {
      "text/plain": [
       "<matplotlib.collections.PathCollection at 0x917b8c8>"
      ]
     },
     "execution_count": 25,
     "metadata": {},
     "output_type": "execute_result"
    },
    {
     "data": {
      "image/png": "[encoded data removed]",
      "text/plain": [
       "<Figure size 432x288 with 1 Axes>"
      ]
     },
     "metadata": {},
     "output_type": "display_data"
    }
   ],
   "source": [
    "\n",
    "plt.scatter(n,p,1000)"
   ]
  },
  {
   "cell_type": "code",
   "execution_count": null,
   "metadata": {},
   "outputs": [],
   "source": []
  }
 ],
 "metadata": {
  "kernelspec": {
   "display_name": "Python 3",
   "language": "python",
   "name": "python3"
  },
  "language_info": {
   "codemirror_mode": {
    "name": "ipython",
    "version": 3
   },
   "file_extension": ".py",
   "mimetype": "text/x-python",
   "name": "python",
   "nbconvert_exporter": "python",
   "pygments_lexer": "ipython3",
   "version": "3.8.3"
  }
 },
 "nbformat": 4,
 "nbformat_minor": 2
}

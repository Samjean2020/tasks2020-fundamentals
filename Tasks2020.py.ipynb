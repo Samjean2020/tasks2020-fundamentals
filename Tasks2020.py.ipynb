{
 "cells": [
  {
   "cell_type": "markdown",
   "metadata": {},
   "source": [
    "### Tasks 2020\n",
    "### Fundamentals of Data Analysis\n",
    "### Due: last commit on or before December 18th, 2020 \n"
   ]
  },
  {
   "cell_type": "markdown",
   "metadata": {},
   "source": [
    "These are my solutions to the Tasks assessment. The author is Jean Bonsenge (G00387887@gmit.ie). "
   ]
  },
  {
   "cell_type": "markdown",
   "metadata": {},
   "source": [
    "## Task 1"
   ]
  },
  {
   "cell_type": "markdown",
   "metadata": {},
   "source": [
    "October 5th, 2020: Write a Python function called counts that takes a list as input\n",
    "and returns a dictionary of unique items in the list as keys and the number of times \n",
    "each item appears as values. So, the input ['A', 'A', 'B', 'C', 'A'] should have output {'A': 3, 'B': 1, 'C': 1} . \n",
    "Your code should not depend on any module from the standard library or otherwise. \n",
    "You should research the task first and include a description with references of your algorithm in the notebook.\n"
   ]
  },
  {
   "cell_type": "markdown",
   "metadata": {},
   "source": [
    "## Introduction "
   ]
  },
  {
   "cell_type": "markdown",
   "metadata": {},
   "source": [
    "We can solve the above task using the dict.get() method. This approach enables the program to work more efficiently with \n",
    "minimal algorithm. The function .get() by default will return None if the key is not present [1, 2]. As a built-in function\n",
    "in Python count() will return the frequency of a specified item in list [3]. A driver function enables the Python interpreter \n",
    "to read the source code [4, 5]. "
   ]
  },
  {
   "cell_type": "markdown",
   "metadata": {},
   "source": [
    "### References"
   ]
  },
  {
   "cell_type": "markdown",
   "metadata": {},
   "source": [
    "[1] Counting the frequencies in a list using dictionary in python: https://www.geeksforgeeks.org/counting-the-frequencies-in-a-list-using-dictionary-in-python/\n",
    "\n",
    "[2] Built-in Data Structures, Functions and Files in Python for Data Analysis: \n",
    "    Data Wrangling with Pandas, NumPy, and IPython: Wes McKinney (2018) (O’ Reilly)\n",
    "\n",
    "[3] Python-list-function-count: www.geeksforgeeks.org/python-list-function-count\n",
    "\n",
    "[4] What does if __name__ == “__main__”: do? https://stackoverflow.com/questions/419163/what-does-if-name-main-do \n",
    "\n",
    "[5] File Formats Wiki “Python source file”:  https://fileformats.fandom.com/wiki/Python_source_file#:~:text=Python%20source%20files%20are%20files,up%20to%20display%20the%20output\n",
    "\n",
    "\n"
   ]
  },
  {
   "cell_type": "markdown",
   "metadata": {},
   "source": [
    "### Description of code"
   ]
  },
  {
   "cell_type": "markdown",
   "metadata": {},
   "source": [
    "Define Python function called counts as per problem statement. • Create a variable and allocate an empty dictionary where output from list will be stored. • Set up a for loop to loop over the bloc to generate keys and values by connecting the variable count with get () function and return count. • dict.get () function method—is an approach that enables the program to work more efficiently with minimal algorithm [1, 2.]. • get () function default will return None if the key is not present [1, 2]. • count () a Python built-in function will return the frequency of a specified item in list [3]. • Set a driver function to enable the Python Interpreter to read the source code[4, 5] • And finally, call the function print () to execute the program."
   ]
  },
  {
   "cell_type": "markdown",
   "metadata": {},
   "source": [
    "# Algorithm and comments "
   ]
  },
  {
   "cell_type": "code",
   "execution_count": 1,
   "metadata": {},
   "outputs": [
    {
     "name": "stdout",
     "output_type": "stream",
     "text": [
      "{'A': 3, 'B': 1, 'C': 1}\n"
     ]
    }
   ],
   "source": [
    "def counts(L):\n",
    "# A function that takes a list as input and returns a dictionary of unique items in the list\n",
    "# as keys and the number of times each item appears as values.\n",
    "\n",
    "# Create an empty dictionary where converted \n",
    "# list (L) will be stored. \n",
    "  count = {} \n",
    "# Set a for loop to loop over the bloc.\n",
    "  for i in [ 'A', 'A', 'B', 'C', 'A']:\n",
    "    count[i] = count.get (i, 0) +1 \n",
    "  return count\n",
    "# Use driver function to read the script.\n",
    "if __name__ == \"__main__\":\n",
    "   L = ['A', 'A', 'B', 'C', 'A']\n",
    "# Call the print () to execute the program.\n",
    "print (counts(L))\n"
   ]
  },
  {
   "cell_type": "markdown",
   "metadata": {},
   "source": [
    "# Test of the function "
   ]
  },
  {
   "cell_type": "markdown",
   "metadata": {},
   "source": [
    "Here we test the function counts, whether or not  the input ['A', 'A', 'B', 'C', 'A'] should have output {'A': 3, 'B': 1, 'C': 1}. "
   ]
  },
  {
   "cell_type": "code",
   "execution_count": 2,
   "metadata": {},
   "outputs": [
    {
     "name": "stdout",
     "output_type": "stream",
     "text": [
      "{'A': 3, 'B': 1, 'C': 1}\n"
     ]
    }
   ],
   "source": [
    "def counts(L):\n",
    "    count = {}\n",
    "    for i in [ 'A', 'A', 'B', 'C', 'A']:\n",
    "        count[i] = count.get (i, 0) +1\n",
    "    return count\n",
    "if __name__ == \"__main__\":\n",
    "    L = ['A', 'A', 'B', 'C', 'A']\n",
    "print (counts(L))"
   ]
  },
  {
   "cell_type": "markdown",
   "metadata": {},
   "source": [
    "The expected output is as above. It comes out after executing the program for the first time.\n",
    "This program may fail when the Python function called counts()is undefined. \n"
   ]
  },
  {
   "cell_type": "markdown",
   "metadata": {},
   "source": [
    "<cr>"
   ]
  },
  {
   "cell_type": "markdown",
   "metadata": {},
   "source": [
    "# Task 2 "
   ]
  },
  {
   "cell_type": "markdown",
   "metadata": {},
   "source": [
    "November 2nd 2020: Write a Python function called dicerolls that simulates rooling dice.\n",
    "Your function should take two parameters: the number of dice K and the number of\n",
    "times to roll the dice n. The function should simulate randomly rolling K dice n times, \n",
    "keeping track of each total face value. It should return a dictionary with\n",
    "the number of times each possible total face value occured. So, calling the function \n",
    "dicerolls(K=2, n=1000) should return a dictionary like:\n",
    "\n",
    "{2:19, 3:50, 4: 82, 5:112, 6:135, 7:174, 8:133, 9:114, 10:75, 11:70, 12:36}\n",
    "\n",
    "You can use any module from the Python standard library you wish and you should include\n",
    "a description with refrences of your alogorithm in the notebook. "
   ]
  },
  {
   "cell_type": "markdown",
   "metadata": {},
   "source": [
    "## Introduction"
   ]
  },
  {
   "cell_type": "markdown",
   "metadata": {},
   "source": [
    "We can solve the above task using the defined function dicerolls including its 2 parameters on the argument as follows: def dicerolls (k=2, n=1000). We have to create a variable contained an empty dictionary to accommodate frequencies of rooling dice simulation. The algorithm below works well[1]; but needs the function dicerolls (k=2, n=1000) incorporated. \n",
    "The function dicerolls is incorporated now[2]"
   ]
  },
  {
   "cell_type": "markdown",
   "metadata": {},
   "source": [
    "## References"
   ]
  },
  {
   "cell_type": "markdown",
   "metadata": {},
   "source": [
    "[1]. Stack Overflow:  Rolling 2 dice 1000 times and counting the number of times the sum of the two dice hit: https://stackoverflow.com/questions/60343980/rolling-2-dice-1000-times-and-counting-the-number-of-times-the-sum-of-the-two-di \n",
    "\n",
    "[2].Towards Data Science, John Kundycki (Nov 12) \"Use Python to build a Dice Roller App: A simple step-by-step guide to building a Dice Rolling Simulator\": https://towardsdatascience.com/use-python-to-build-a-dice-roller-app-2408e66bf009"
   ]
  },
  {
   "cell_type": "markdown",
   "metadata": {},
   "source": [
    "# Development"
   ]
  },
  {
   "cell_type": "markdown",
   "metadata": {},
   "source": [
    "### Code description\n"
   ]
  },
  {
   "cell_type": "markdown",
   "metadata": {},
   "source": [
    "Import defaultdict () function from collections in Python to perform operations within the script. • Import randit () function to randomly generate integers. • Create a variable called rolls to allocate the default dictionary function. • Set a Python function to group instructions within the bloc: define dicerolls () function, its argument must encapsulate two parameters as per problem statement. • Set up a for loop, to loop over the bloc until the settled conditions are met: for in range () to perform the rolling of dice action 1000 times. • Randomly generate integers for the dice 2, from 2 to 12 and increase the corresponding output plus 1. • Call the defined function direrolls () • And finally, call the function print () to output rolls variable content."
   ]
  },
  {
   "cell_type": "markdown",
   "metadata": {},
   "source": [
    "## Algorithm and comments "
   ]
  },
  {
   "cell_type": "code",
   "execution_count": 15,
   "metadata": {},
   "outputs": [
    {
     "name": "stdout",
     "output_type": "stream",
     "text": [
      "defaultdict(<class 'int'>, {4: 101, 7: 85, 11: 85, 8: 97, 5: 94, 12: 85, 9: 97, 2: 96, 3: 97, 10: 76, 6: 87})\n"
     ]
    }
   ],
   "source": [
    "# Import relevant modules\n",
    "import numpy as np\n",
    "from collections import defaultdict\n",
    "from random import randint\n",
    "\n",
    "# Set up a variable to allocate the default dictionary function.\n",
    "rolls = defaultdict(int)\n",
    "# Set a Python function to execute instructions within a block.\n",
    "def dicerolls(k=2, n=1000): # The function encapsulates 2 parameters or arguments.\n",
    "    # Set up a loop.\n",
    "        for _ in range(n):\n",
    "    # Randonly generate integers for the dice.\n",
    "         k = randint(2, 12)\n",
    "                  \n",
    "    # Increase the corresponding output by 1\n",
    "         rolls[k] += 1\n",
    "        \n",
    "# Call the defined function dicerolls \n",
    "dicerolls(2, 1000)   \n",
    "\n",
    "# Print rolls.\n",
    "\n",
    "print(rolls)"
   ]
  },
  {
   "cell_type": "code",
   "execution_count": 20,
   "metadata": {},
   "outputs": [
    {
     "data": {
      "text/plain": [
       "defaultdict(int,\n",
       "            {8: 891,\n",
       "             4: 919,\n",
       "             5: 917,\n",
       "             7: 923,\n",
       "             2: 890,\n",
       "             3: 945,\n",
       "             10: 921,\n",
       "             12: 885,\n",
       "             6: 939,\n",
       "             9: 862,\n",
       "             11: 908})"
      ]
     },
     "execution_count": 20,
     "metadata": {},
     "output_type": "execute_result"
    }
   ],
   "source": [
    "# Reproducible result in a vertical shape.\n",
    "rolls"
   ]
  },
  {
   "cell_type": "markdown",
   "metadata": {},
   "source": [
    "## Test the algorithm"
   ]
  },
  {
   "cell_type": "code",
   "execution_count": 17,
   "metadata": {},
   "outputs": [
    {
     "name": "stdout",
     "output_type": "stream",
     "text": [
      "defaultdict(<class 'int'>, {8: 891, 4: 919, 5: 917, 7: 923, 2: 890, 3: 945, 10: 921, 12: 885, 6: 939, 9: 862, 11: 908})\n"
     ]
    }
   ],
   "source": [
    "# Import relevant modules\n",
    "import numpy as np\n",
    "from collections import defaultdict\n",
    "from random import randint\n",
    "\n",
    "# Set up a variable to allocate the default dictionary function.\n",
    "rolls = defaultdict(int)\n",
    "# Set a Python function to execute instructions within a block.\n",
    "def dicerolls(k=2, n=10000): # The function encapsulates 2 parameters or arguments.\n",
    "    # Set up a loop.\n",
    "        for _ in range(n):\n",
    "    # Randonly generate integers for the dice.\n",
    "         k = randint(2, 12)\n",
    "                  \n",
    "    # Increase the corresponding output by 1\n",
    "         rolls[k] += 1\n",
    "\n",
    "# The parameter n is increased to 10000 and we call dicerolls function.\n",
    "dicerolls(2, 10000)      \n",
    "        \n",
    "# Print rolls.\n",
    "print(rolls)"
   ]
  },
  {
   "cell_type": "code",
   "execution_count": 19,
   "metadata": {},
   "outputs": [
    {
     "data": {
      "text/plain": [
       "defaultdict(int,\n",
       "            {8: 891,\n",
       "             4: 919,\n",
       "             5: 917,\n",
       "             7: 923,\n",
       "             2: 890,\n",
       "             3: 945,\n",
       "             10: 921,\n",
       "             12: 885,\n",
       "             6: 939,\n",
       "             9: 862,\n",
       "             11: 908})"
      ]
     },
     "execution_count": 19,
     "metadata": {},
     "output_type": "execute_result"
    }
   ],
   "source": [
    "# Reproducible result in a vertical shape.\n",
    "rolls"
   ]
  },
  {
   "cell_type": "markdown",
   "metadata": {},
   "source": [
    "The algorithm may fail if both parameters ( k=2, n=1000) are not defined in the argument of the function dicerolls."
   ]
  },
  {
   "cell_type": "markdown",
   "metadata": {},
   "source": [
    "<cr>"
   ]
  },
  {
   "cell_type": "markdown",
   "metadata": {},
   "source": [
    "# Task 3"
   ]
  },
  {
   "cell_type": "markdown",
   "metadata": {},
   "source": [
    "November 16th, 2020: The numpy.random.binomial function can be used to\n",
    "simulate flipping a coin with a 50/50 chance of heads or tails. Interestingly, if a\n",
    "coin is flipped many times then the number of heads is well approximated by a\n",
    "bell-shaped curve. For instance, if we flip a coin 100 times in a row the chance of\n",
    "getting 50 heads is relatively high, the chances of getting 0 or 100 heads is relatively\n",
    "low, and the chances of getting any other number of heads decreases as you move\n",
    "away from 50 in either direction towards 0 or 100. Write some python code that\n",
    "simulates flipping a coin 100 times. Then run this code 1,000 times, keeping track\n",
    "of the number of heads in each of the 1,000 simulations. Select an appropriate\n",
    "plot to depict the resulting list of 1,000 numbers, showing that it roughly follows\n",
    "a bell-shaped curve. You should explain your work in a Markdown cell above the\n",
    "code."
   ]
  },
  {
   "cell_type": "markdown",
   "metadata": {},
   "source": [
    "## Introduction\n",
    "\n",
    "We can solve this problem by using the numpy.random.binomial function. In numpy.random.Generator.binomial with a method as Generator.binomial(n, p, size=None) we can draw samples from a binomial distribution. Samples are drawn from a binomial distribution with specified parameters, n trials and p probability of success where n an integer >= 0 and p is in the interval [0,1]. (n may be input as a float, but it is truncated to an integer in use) [1]\n"
   ]
  },
  {
   "cell_type": "markdown",
   "metadata": {},
   "source": [
    "## References\n",
    "\n",
    "[1] IPython(2020) \"Rich Outputs\":\n",
    "https://ipython.readthedocs.io/en/stable/interactive/plotting.html(Accessed 11/12/2020)\n",
    "\n",
    "\n",
    "[2] NumPy(2020) \"numpy.random.Generator.binomial\": https://numpy.org/doc/stable/reference/random/generated/numpy.random.Generator.binomial.html#numpy.random.Generator.binomial (Accessed 01/12/2020)\n",
    "\n",
    "[3] Tutorialspoint(2020) \"Python - Normal Distribution\":  https://www.tutorialspoint.com/python_data_science/python_normal_distribution.htm(Accessed 01/12/2020)\n",
    "\n",
    "[4] Matplotlib.org(2020) \"matplotlib.pyplot.figure\"https://matplotlib.org/3.1.1/api/_as_gen/matplotlib.pyplot.figure.html[3] (Accessed 01/12/2020)\n",
    "\n",
    "\n"
   ]
  },
  {
   "cell_type": "markdown",
   "metadata": {},
   "source": [
    "## Development"
   ]
  },
  {
   "cell_type": "markdown",
   "metadata": {},
   "source": [
    "#### Code Description "
   ]
  },
  {
   "cell_type": "markdown",
   "metadata": {},
   "source": [
    "\n",
    "#### Import relevant Python modules"
   ]
  },
  {
   "cell_type": "markdown",
   "metadata": {},
   "source": [
    "#Import numpy as np for numerical arrays and fitting lines.\n",
    "#Import matplotlib.pyplot as plt for plotting.\n",
    "#Use the Ipython magic command %matplotlib inline for displaying plots[1]\n",
    "#Import seaborn as sns for data visualisation.\n",
    "#Import pandas as pd for data analysis and manipulation.\n",
    "#Use plt.style.use (\"ggplot\") to display nicer plot style.\n",
    "#Use plt.rcParams[\"figure.figsize\"] to get big size plots.rcParams defines the default values, which can be modified in the matplotlibrc file[4].\n"
   ]
  },
  {
   "cell_type": "markdown",
   "metadata": {},
   "source": [
    "#### 1st part of the code[2]"
   ]
  },
  {
   "cell_type": "markdown",
   "metadata": {},
   "source": [
    "#Draw samples from a binomial distribution using numpy random default random generator function by setting a variable first as rng = np.random.default_rng()[2].\n",
    "\n",
    "#Set number of trials and probability of each trial as n, p = 100, .5[2].\n",
    "\n",
    "#Set number of time to run the code using random number generator binomial function by setting a variable first as s = rng.binomial(n, p, 1000)[1].\n",
    "\n",
    "#Check the result of flipping a coin 100 times, tested 1000 times as sum(rng.binomial(100, 0.1, 1000) == 0)/1000 [2].\n",
    "\n",
    "#Simulation by calling s variable.\n"
   ]
  },
  {
   "cell_type": "markdown",
   "metadata": {},
   "source": [
    "#### 2nd part of the code[3]"
   ]
  },
  {
   "cell_type": "markdown",
   "metadata": {},
   "source": [
    "#Set elements of normal distribution(mu and sigma)[3] as mu, sigma = 100, .5.\n",
    "\n",
    "#Set a variable to generate random values as s = np.random.normal(mu, sigma, 1000)[3].\n",
    "\n",
    "#Create the bins and histogram using matplotlib.pyplot histogram function as count, bins, ignored = plt.hist(s, 20, density=True)[3].\n",
    "\n",
    "#Plot the distribution curve using matplotlib.pyplot function as plt.plot(bins, 1/(sigma * np.sqrt(2 * np.pi)) * np.exp( - (bins - mu)2 / (2 * sigma2) ), linewidth=3, color='b') [3].\n",
    "\n",
    "#Display plot using matplotlib.pyplot function as plt.show()."
   ]
  },
  {
   "cell_type": "markdown",
   "metadata": {},
   "source": [
    "### Algorithm "
   ]
  },
  {
   "cell_type": "markdown",
   "metadata": {},
   "source": [
    "#### Relevant Python modules"
   ]
  },
  {
   "cell_type": "code",
   "execution_count": 247,
   "metadata": {},
   "outputs": [],
   "source": [
    "# Numercial arrays and fitting lines\n",
    "import numpy as np\n",
    "\n",
    "# Plots.\n",
    "%matplotlib inline\n",
    "\n",
    "import matplotlib.pyplot as plt\n",
    "# Data visualisation.\n",
    "import seaborn as sns\n",
    "# Data analysis and manipulation.\n",
    "import pandas as pd \n",
    "\n",
    "# Nicer plot style.\n",
    "plt.style.use('ggplot')\n",
    "# Bigger plots.\n",
    "plt.rcParams['figure.figsize'] = 14, 10\n"
   ]
  },
  {
   "cell_type": "markdown",
   "metadata": {},
   "source": [
    "#### Using the numpy.random.binomial function "
   ]
  },
  {
   "cell_type": "markdown",
   "metadata": {},
   "source": [
    "#### 1st part of the code"
   ]
  },
  {
   "cell_type": "code",
   "execution_count": null,
   "metadata": {},
   "outputs": [],
   "source": [
    "# Draw samples from a binomial distribution.\n",
    "rng = np.random.default_rng()\n",
    "\n",
    "# number of trials and probability of each trial.\n",
    "n, p = 100, .5  \n",
    "\n",
    "# number of time to run the code.\n",
    "s = rng.binomial(n, p, 1000)\n",
    "\n",
    "# result of flipping a coin 100 times, tested 1000 times.\n",
    "sum(rng.binomial(100, 0.1, 1000) == 0)/1000.\n",
    "# answer = 0.0 or 0.1\n"
   ]
  },
  {
   "cell_type": "markdown",
   "metadata": {},
   "source": [
    "#### Simulation"
   ]
  },
  {
   "cell_type": "code",
   "execution_count": 256,
   "metadata": {},
   "outputs": [
    {
     "data": {
      "text/plain": [
       "array([44, 44, 55, 48, 47, 53, 45, 45, 39, 63, 57, 57, 46, 53, 58, 57, 54,\n",
       "       54, 45, 59, 38, 47, 48, 52, 44, 56, 54, 55, 43, 47, 55, 46, 44, 44,\n",
       "       48, 44, 50, 52, 49, 51, 60, 49, 48, 57, 47, 50, 49, 56, 45, 43, 51,\n",
       "       53, 50, 56, 48, 45, 48, 48, 46, 54, 58, 47, 53, 58, 66, 48, 51, 41,\n",
       "       47, 55, 59, 46, 43, 43, 53, 53, 48, 55, 49, 43, 56, 59, 46, 52, 45,\n",
       "       53, 45, 53, 46, 50, 58, 45, 59, 52, 47, 44, 55, 46, 51, 44, 55, 45,\n",
       "       49, 48, 42, 55, 46, 49, 50, 45, 43, 52, 49, 47, 43, 48, 39, 51, 52,\n",
       "       44, 43, 53, 54, 49, 47, 52, 44, 50, 41, 52, 56, 49, 59, 58, 55, 50,\n",
       "       42, 48, 56, 47, 48, 48, 41, 62, 48, 53, 48, 57, 58, 54, 59, 53, 55,\n",
       "       48, 54, 57, 52, 57, 51, 53, 42, 50, 43, 51, 49, 47, 50, 46, 49, 53,\n",
       "       43, 52, 57, 47, 51, 49, 57, 47, 48, 60, 59, 48, 55, 44, 44, 60, 46,\n",
       "       55, 58, 39, 46, 46, 44, 58, 43, 49, 42, 50, 46, 59, 53, 49, 50, 43,\n",
       "       51, 44, 43, 48, 60, 55, 48, 49, 56, 54, 48, 49, 44, 54, 53, 42, 46,\n",
       "       51, 50, 45, 56, 48, 60, 57, 46, 57, 53, 50, 44, 53, 41, 49, 53, 49,\n",
       "       48, 46, 49, 48, 48, 50, 50, 50, 44, 55, 48, 51, 47, 55, 57, 45, 58,\n",
       "       44, 56, 54, 43, 49, 46, 48, 50, 53, 47, 49, 47, 53, 48, 51, 37, 51,\n",
       "       50, 52, 43, 49, 49, 56, 55, 48, 51, 53, 49, 52, 52, 46, 50, 46, 55,\n",
       "       56, 48, 52, 53, 43, 50, 47, 47, 49, 45, 57, 57, 53, 43, 47, 46, 54,\n",
       "       46, 54, 53, 54, 53, 54, 53, 55, 57, 50, 46, 45, 57, 58, 44, 42, 45,\n",
       "       57, 42, 57, 49, 45, 53, 57, 50, 50, 52, 53, 46, 46, 45, 47, 43, 50,\n",
       "       61, 53, 51, 40, 54, 49, 44, 47, 44, 53, 47, 45, 49, 60, 57, 50, 52,\n",
       "       55, 54, 52, 54, 53, 45, 50, 52, 53, 53, 57, 57, 43, 45, 54, 52, 54,\n",
       "       48, 60, 54, 53, 48, 53, 49, 39, 56, 52, 52, 47, 53, 46, 48, 41, 53,\n",
       "       59, 44, 47, 53, 55, 49, 40, 52, 47, 51, 52, 48, 46, 49, 46, 45, 58,\n",
       "       51, 49, 52, 42, 62, 44, 50, 56, 53, 45, 44, 58, 45, 44, 49, 52, 59,\n",
       "       54, 52, 44, 56, 54, 55, 51, 56, 46, 50, 43, 39, 58, 49, 49, 50, 45,\n",
       "       51, 47, 41, 47, 64, 48, 52, 50, 41, 59, 41, 52, 45, 44, 58, 55, 48,\n",
       "       49, 53, 51, 49, 59, 56, 55, 46, 47, 55, 45, 49, 57, 47, 56, 49, 52,\n",
       "       45, 44, 53, 45, 47, 48, 58, 55, 45, 53, 47, 46, 43, 56, 50, 47, 51,\n",
       "       57, 53, 41, 48, 60, 51, 61, 50, 51, 44, 49, 45, 39, 55, 57, 43, 44,\n",
       "       56, 51, 55, 52, 53, 44, 55, 48, 47, 53, 56, 58, 48, 51, 51, 55, 50,\n",
       "       53, 60, 47, 56, 45, 40, 53, 46, 59, 53, 47, 44, 51, 57, 37, 47, 54,\n",
       "       49, 50, 49, 54, 56, 46, 49, 53, 48, 37, 44, 58, 59, 57, 48, 50, 40,\n",
       "       44, 50, 49, 49, 52, 48, 54, 51, 48, 39, 51, 58, 58, 49, 52, 42, 59,\n",
       "       51, 47, 59, 48, 51, 52, 57, 50, 40, 47, 44, 52, 49, 56, 56, 47, 44,\n",
       "       49, 59, 51, 53, 49, 51, 48, 51, 54, 54, 43, 51, 56, 47, 49, 43, 46,\n",
       "       51, 52, 51, 54, 56, 53, 42, 53, 45, 43, 48, 51, 48, 51, 49, 54, 52,\n",
       "       44, 44, 52, 51, 52, 61, 56, 59, 45, 54, 53, 47, 58, 52, 48, 45, 49,\n",
       "       52, 52, 56, 52, 48, 50, 55, 53, 52, 45, 45, 47, 50, 55, 56, 52, 50,\n",
       "       58, 55, 48, 39, 55, 43, 49, 55, 54, 56, 41, 46, 49, 43, 43, 47, 51,\n",
       "       49, 55, 55, 51, 41, 51, 47, 51, 49, 55, 53, 54, 61, 52, 51, 51, 64,\n",
       "       51, 46, 45, 53, 53, 48, 47, 49, 57, 48, 47, 60, 49, 43, 58, 56, 54,\n",
       "       55, 45, 48, 52, 61, 56, 52, 47, 54, 47, 53, 60, 53, 56, 43, 44, 43,\n",
       "       51, 45, 47, 53, 51, 48, 47, 55, 54, 56, 52, 59, 48, 48, 47, 59, 55,\n",
       "       55, 53, 54, 57, 48, 58, 52, 62, 46, 48, 53, 50, 63, 46, 52, 54, 46,\n",
       "       40, 47, 53, 52, 47, 50, 54, 48, 50, 45, 45, 50, 47, 57, 49, 49, 59,\n",
       "       47, 47, 45, 55, 54, 42, 48, 55, 46, 50, 60, 48, 50, 46, 43, 45, 52,\n",
       "       51, 47, 45, 51, 47, 57, 46, 45, 62, 41, 51, 48, 54, 37, 55, 54, 45,\n",
       "       56, 55, 47, 55, 51, 47, 46, 53, 44, 49, 49, 56, 46, 50, 43, 56, 48,\n",
       "       56, 61, 44, 49, 49, 57, 59, 53, 44, 45, 36, 52, 49, 50, 56, 50, 48,\n",
       "       48, 53, 50, 48, 54, 50, 49, 50, 42, 56, 51, 46, 48, 50, 49, 53, 42,\n",
       "       49, 43, 44, 48, 48, 44, 50, 55, 58, 42, 55, 56, 52, 51, 47, 44, 46,\n",
       "       45, 46, 55, 52, 51, 46, 49, 58, 53, 51, 53, 53, 51, 50, 51, 49, 47,\n",
       "       57, 45, 52, 48, 48, 52, 45, 45, 48, 55, 57, 50, 47, 43, 49, 45, 53,\n",
       "       51, 56, 45, 54, 48, 52, 51, 42, 56, 46, 50, 36, 56, 53, 49, 51, 52,\n",
       "       42, 51, 43, 46, 61, 44, 48, 56, 53, 46, 45, 53, 56, 49, 49, 51, 45,\n",
       "       47, 49, 49, 45, 56, 51, 45, 53, 47, 54, 45, 55, 48, 48, 40, 53, 49,\n",
       "       53, 46, 48, 49, 54, 51, 48, 47, 43, 47, 41, 53, 40, 51, 43, 51, 45,\n",
       "       58, 60, 51, 47, 51, 42, 53, 45, 41, 49, 49, 48, 52, 56],\n",
       "      dtype=int64)"
      ]
     },
     "execution_count": 256,
     "metadata": {},
     "output_type": "execute_result"
    }
   ],
   "source": [
    "s"
   ]
  },
  {
   "cell_type": "markdown",
   "metadata": {},
   "source": [
    "#### 2nd part of the code[2]"
   ]
  },
  {
   "cell_type": "code",
   "execution_count": 253,
   "metadata": {},
   "outputs": [
    {
     "data": {
      "image/png": "[encoded data removed]",
      "text/plain": [
       "<Figure size 1008x720 with 1 Axes>"
      ]
     },
     "metadata": {},
     "output_type": "display_data"
    }
   ],
   "source": [
    "# Set elements of normal distribution(mu and sigma)\n",
    "mu, sigma = 100, .5\n",
    "# Set a variable (s) to generate random values.\n",
    "\n",
    "s = np.random.normal(mu, sigma, 1000)\n",
    "\n",
    "# Create the bins and histogram.\n",
    "count, bins, ignored = plt.hist(s, 20, density=True)\n",
    "\n",
    "# Plot the distribution curve.\n",
    "plt.plot(bins, 1/(sigma * np.sqrt(2 * np.pi)) * np.exp( - (bins - mu)**2 / (2 * sigma**2) ), linewidth=3, color='b')\n",
    "# Display plot.\n",
    "plt.show()"
   ]
  },
  {
   "cell_type": "markdown",
   "metadata": {},
   "source": [
    "The output on the above plot is showing that the resulting list of 1,000 numbers roughly follows a bell-shaped curve."
   ]
  },
  {
   "cell_type": "markdown",
   "metadata": {},
   "source": [
    "<br>"
   ]
  },
  {
   "cell_type": "markdown",
   "metadata": {},
   "source": [
    "# Task 4 \n",
    "\n",
    "4. November 30th, 2020: Simpson’s paradox is a well-known statistical paradox where a trend evident in a number of groups reverses when the groups are combined into one big data set. Use numpy to create four data sets, each with an x array and a corresponding y array, to demonstrate Simpson’s paradox. You might create your x arrays using numpy.linspace and create the y array for each x using notation like y = a * x + b where you choose the a and b for each x , y pair to demonstrate the paradox. You might see the Wikipedia page for Simpson’s paradox for inspiration. "
   ]
  },
  {
   "cell_type": "markdown",
   "metadata": {},
   "source": [
    "# Introduction\n",
    "\n",
    "We can approach this question using Simpson's paradox continuous.svg script[1], numpy.linspace() function[2],numpy.random.normal[3],and seaborn.regplot[4]"
   ]
  },
  {
   "cell_type": "markdown",
   "metadata": {},
   "source": [
    "# References\n",
    "[1]IPython(2020) \"Rich Outputs\": https://ipython.readthedocs.io/en/stable/interactive/plotting.html(Accessed 11/12/2020)\n",
    "\n",
    "[2]Khanacademy(2020).\"Terms, factors, and coefficients review\"\n",
    "https://www.khanacademy.org/math/cc-sixth-grade-math/cc-6th-expressions-and-variables/cc-6th-evaluating-expressions/a/terms-factors-and-coefficients-review[1] (Accessed 15/12/2020)\n",
    "\n",
    "[3] Matplotlib.org(2020) \"matplotlib.pyplot.figure\"https://matplotlib.org/3.1.1/api/_as_gen/matplotlib.pyplot.figure.html(Accessed 10/12/2020)\n",
    "\n",
    "\n",
    "[4] Numpy(2019) \"numpy.linspace\": https://numpy.org/doc/stable/reference/generated/numpy.linspace.html (10/12/2020)\n",
    "\n",
    "\n",
    "[5] Numpy(2020) numpy.random.normal: https://numpy.org/devdocs/reference/random/generated/numpy.random.normal.html (10/12/2020)\n",
    "\n",
    "[6] Seaborn(2020) \"seaborn.regplot\": http://seaborn.pydata.org/generated/seaborn.regplot.html (10/12/2020)\n",
    "\n",
    "\n",
    "[7] Wikipedia(2020)File:Simpson's paradox continuous.svg. Schutz \"Example of the quantitative version of w:Simpson's paradox\":https://commons.wikimedia.org/wiki/File:Simpson%27s_paradox_continuous.svg (10/12/2020)\n",
    "\n",
    "[8] Facweb(undated). \"Linear Regression Definitions and Three Regression Models\":\n",
    "\n",
    "http://facweb.cs.depaul.edu/sjost/csc423/documents/lin-reg.htm#:~:text=The%20horizontal%20line%20regression%20model%20is%20a%20model,is%20significant.%20Model%202%3A%20Regression%20through%20the%20Origin (Accessed 14/12/2020)\n"
   ]
  },
  {
   "cell_type": "markdown",
   "metadata": {},
   "source": [
    "# Development"
   ]
  },
  {
   "cell_type": "markdown",
   "metadata": {},
   "source": [
    "### Description of code"
   ]
  },
  {
   "cell_type": "markdown",
   "metadata": {},
   "source": [
    "#### Import relevant Python modules"
   ]
  },
  {
   "cell_type": "markdown",
   "metadata": {},
   "source": [
    "#Import numpy as np for numerical arrays and fitting lines.\n",
    "\n",
    "#Import matplotlib.pyplot as plt for plotting.\n",
    "\n",
    "#Use the Ipython magic command %matplotlib inline for displaying plots[1]\n",
    "\n",
    "#Import seaborn as sns for data visualisation.\n",
    "\n",
    "#Import pandas as pd for data analysis and manipulation.\n",
    "\n",
    "#Use plt.style.use (\"ggplot\") to display nicer plot style.\n",
    "\n",
    "#Use plt.rcParams[\"figure.figsize\"] to get big size plots.rcParams defines the default values, which can be modified in the matplotlibrc file[3]\n"
   ]
  },
  {
   "cell_type": "markdown",
   "metadata": {},
   "source": [
    "#### Generate four datasets"
   ]
  },
  {
   "cell_type": "markdown",
   "metadata": {},
   "source": [
    "Set variables a and b and generate datasets(x1,x2,x3,x4) with their corresponding y variables(y1,y2,y3,y4) using numpy linspace function for x variables as np.linspace() and numpy random normal function for y variables as a * x + b + np.random.normal(). Parameters within each argument, including noise must be adapted. np.linspace() returns evenly spaced numbers over a specified interval[4]. np.random.normal() draws random samples from a normal distribution[5]. Check the size of variables for the dataset 1 using the len function as len(). This verification of size can be done to other datasets variables. Request the coefficients of both variables (x and y) of each dataset using polyfit function as  np.polyfit(x1, y1, 1). A coefficient is a number multiplied by a variable[2] as a * x + b. \n"
   ]
  },
  {
   "cell_type": "markdown",
   "metadata": {},
   "source": [
    "#### Generate trend lines"
   ]
  },
  {
   "cell_type": "markdown",
   "metadata": {},
   "source": [
    "Generate trend lines using seaborn regression plot x and y variables of each dataset as sns.regplot(x = x1, y = y1) for the first dataset. sns.regplot plots data and a linear regression model fit[6], [7]"
   ]
  },
  {
   "cell_type": "markdown",
   "metadata": {},
   "source": [
    "#### Demonstrate Simpson's paradox "
   ]
  },
  {
   "cell_type": "markdown",
   "metadata": {},
   "source": [
    "Demonstrate the Simpson's paradox by combining parameters of different groups using seaborn sns.regplot () function\n",
    "Combining Group 1 with group 2 as sns.regplot(x = x1, y = x2)and combining Group 3 with group 4 as sns.regplot(x = x3, y = x4)."
   ]
  },
  {
   "cell_type": "markdown",
   "metadata": {},
   "source": [
    "#### Synchronise all four plots in one plot"
   ]
  },
  {
   "cell_type": "markdown",
   "metadata": {},
   "source": [
    "Synchronise all four plots  in one plot using sns.regplot() function as sns.regplot (x1, y1, '.', label=\"Data set 1\") for the dataset 1."
   ]
  },
  {
   "cell_type": "markdown",
   "metadata": {},
   "source": [
    "#### Fitting with polyfit\n",
    "\n",
    "#### About coefficients"
   ]
  },
  {
   "cell_type": "markdown",
   "metadata": {},
   "source": [
    "Retrieve coefficients of all four datasets variables using numpy np.polyfit() function as np.polyfit(x1, y1, 1) for the dataset 1."
   ]
  },
  {
   "cell_type": "markdown",
   "metadata": {},
   "source": [
    "#### Fit each using polyfit.\n"
   ]
  },
  {
   "cell_type": "markdown",
   "metadata": {},
   "source": [
    "Fit each dataset variables using numpy polyfit()function as coeffs1 = np.polyfit(x1, y1, 1) for dataset 1 and call coeffs1."
   ]
  },
  {
   "cell_type": "markdown",
   "metadata": {},
   "source": [
    "#### Demonstrate Simpson's paradox (plt.plot())"
   ]
  },
  {
   "cell_type": "markdown",
   "metadata": {},
   "source": [
    "Demonstrate Simpson's paradox using coefficients of all four datasets using matplotlib.pyplot()function as plt.plot() for dataset 1 as below and complete the three other datasets with variables as described above.\n",
    "\n",
    "plt.plot(x1, y1, '.', label=\"Data set 1\")\n",
    "plt.plot(x1, coeffs1[0] * x1 + coeffs1[1], '-', label='Best fit line 1')"
   ]
  },
  {
   "cell_type": "markdown",
   "metadata": {},
   "source": [
    "# Code"
   ]
  },
  {
   "cell_type": "markdown",
   "metadata": {},
   "source": [
    "### Relevant Python modules"
   ]
  },
  {
   "cell_type": "code",
   "execution_count": 83,
   "metadata": {},
   "outputs": [],
   "source": [
    "# Numercial arrays and fitting lines\n",
    "import numpy as np\n",
    "\n",
    "# Plots.\n",
    "%matplotlib inline\n",
    "import matplotlib.pyplot as plt\n",
    "# Data visualisation.\n",
    "import seaborn as sns\n",
    "# Data analysis and manipulation.\n",
    "import pandas as pd \n",
    "\n",
    "# Nicer plot style.\n",
    "plt.style.use('ggplot')\n",
    "# Bigger plots.\n",
    "plt.rcParams['figure.figsize'] = 14, 10\n",
    "\n"
   ]
  },
  {
   "cell_type": "markdown",
   "metadata": {},
   "source": [
    "### Generate four datasets"
   ]
  },
  {
   "cell_type": "markdown",
   "metadata": {},
   "source": [
    "### Dataset 1"
   ]
  },
  {
   "cell_type": "code",
   "execution_count": 167,
   "metadata": {},
   "outputs": [],
   "source": [
    "import numpy as np\n",
    "\n",
    "a = 0.0\n",
    "b = 30\n",
    "\n",
    "x1 = np.linspace(0.0,30.0, 100)\n",
    "y1 = a * x + b + np.random.normal(0, 1.0, len(x1))"
   ]
  },
  {
   "cell_type": "code",
   "execution_count": 168,
   "metadata": {},
   "outputs": [
    {
     "data": {
      "text/plain": [
       "array([ 0.        ,  0.3030303 ,  0.60606061,  0.90909091,  1.21212121,\n",
       "        1.51515152,  1.81818182,  2.12121212,  2.42424242,  2.72727273,\n",
       "        3.03030303,  3.33333333,  3.63636364,  3.93939394,  4.24242424,\n",
       "        4.54545455,  4.84848485,  5.15151515,  5.45454545,  5.75757576,\n",
       "        6.06060606,  6.36363636,  6.66666667,  6.96969697,  7.27272727,\n",
       "        7.57575758,  7.87878788,  8.18181818,  8.48484848,  8.78787879,\n",
       "        9.09090909,  9.39393939,  9.6969697 , 10.        , 10.3030303 ,\n",
       "       10.60606061, 10.90909091, 11.21212121, 11.51515152, 11.81818182,\n",
       "       12.12121212, 12.42424242, 12.72727273, 13.03030303, 13.33333333,\n",
       "       13.63636364, 13.93939394, 14.24242424, 14.54545455, 14.84848485,\n",
       "       15.15151515, 15.45454545, 15.75757576, 16.06060606, 16.36363636,\n",
       "       16.66666667, 16.96969697, 17.27272727, 17.57575758, 17.87878788,\n",
       "       18.18181818, 18.48484848, 18.78787879, 19.09090909, 19.39393939,\n",
       "       19.6969697 , 20.        , 20.3030303 , 20.60606061, 20.90909091,\n",
       "       21.21212121, 21.51515152, 21.81818182, 22.12121212, 22.42424242,\n",
       "       22.72727273, 23.03030303, 23.33333333, 23.63636364, 23.93939394,\n",
       "       24.24242424, 24.54545455, 24.84848485, 25.15151515, 25.45454545,\n",
       "       25.75757576, 26.06060606, 26.36363636, 26.66666667, 26.96969697,\n",
       "       27.27272727, 27.57575758, 27.87878788, 28.18181818, 28.48484848,\n",
       "       28.78787879, 29.09090909, 29.39393939, 29.6969697 , 30.        ])"
      ]
     },
     "execution_count": 168,
     "metadata": {},
     "output_type": "execute_result"
    }
   ],
   "source": [
    "x1 # Generate an array for the first group of dataset."
   ]
  },
  {
   "cell_type": "code",
   "execution_count": 169,
   "metadata": {},
   "outputs": [
    {
     "data": {
      "text/plain": [
       "100"
      ]
     },
     "execution_count": 169,
     "metadata": {},
     "output_type": "execute_result"
    }
   ],
   "source": [
    "len(x1)"
   ]
  },
  {
   "cell_type": "code",
   "execution_count": 170,
   "metadata": {},
   "outputs": [
    {
     "data": {
      "text/plain": [
       "array([28.71868468, 30.01665365, 28.57368744, 29.16344179, 29.41714381,\n",
       "       30.78366984, 28.45524155, 30.77944531, 31.30654656, 28.37306542,\n",
       "       30.73457945, 30.53071343, 29.51752541, 30.33433685, 29.6248353 ,\n",
       "       29.92555622, 29.56207261, 30.11922382, 29.48637133, 30.59406648,\n",
       "       31.77965354, 30.11525062, 28.85459491, 30.48673226, 31.10608461,\n",
       "       30.28125441, 32.41504515, 31.73665704, 29.73318907, 30.99878041,\n",
       "       30.36021183, 30.20886791, 28.25376621, 30.45596096, 30.11793426,\n",
       "       31.27636813, 29.77536597, 29.92827405, 30.81069403, 29.84932849,\n",
       "       29.5067456 , 30.32729091, 29.26625109, 30.47424447, 29.48492816,\n",
       "       31.06309331, 30.7727232 , 31.44038445, 29.18141475, 31.37778181,\n",
       "       30.06976041, 30.72865841, 29.44826076, 31.78185183, 30.31209842,\n",
       "       29.73152328, 31.26599549, 30.35368005, 30.99757202, 28.79613268,\n",
       "       30.64910059, 30.98841397, 30.65990355, 31.32943268, 31.58854341,\n",
       "       31.13599916, 29.82112762, 30.09265066, 30.6333242 , 27.8754133 ,\n",
       "       30.3330972 , 29.87462715, 29.89595857, 28.32501783, 29.28037218,\n",
       "       29.56629489, 28.90849977, 28.94784935, 30.87328265, 30.32060813,\n",
       "       31.64086039, 28.57755355, 29.36388113, 28.90488082, 29.85051211,\n",
       "       28.95607614, 28.43740962, 31.4817468 , 28.72499882, 29.41409942,\n",
       "       30.99486255, 28.79999344, 30.9556268 , 29.55579673, 30.09829943,\n",
       "       30.84869105, 28.41598592, 30.07785881, 31.65863404, 28.33136194])"
      ]
     },
     "execution_count": 170,
     "metadata": {},
     "output_type": "execute_result"
    }
   ],
   "source": [
    "y1 # Generate its correponding array."
   ]
  },
  {
   "cell_type": "code",
   "execution_count": 171,
   "metadata": {},
   "outputs": [
    {
     "data": {
      "text/plain": [
       "100"
      ]
     },
     "execution_count": 171,
     "metadata": {},
     "output_type": "execute_result"
    }
   ],
   "source": [
    "len(y1)"
   ]
  },
  {
   "cell_type": "code",
   "execution_count": 172,
   "metadata": {},
   "outputs": [
    {
     "data": {
      "text/plain": [
       "array([-8.62326735e-03,  3.02006481e+01])"
      ]
     },
     "execution_count": 172,
     "metadata": {},
     "output_type": "execute_result"
    }
   ],
   "source": [
    "np.polyfit(x1, y1, 1)"
   ]
  },
  {
   "cell_type": "markdown",
   "metadata": {},
   "source": [
    "### Dataset 2"
   ]
  },
  {
   "cell_type": "code",
   "execution_count": 173,
   "metadata": {},
   "outputs": [],
   "source": [
    "import numpy as np\n",
    "a = 0.5\n",
    "b = 55.0\n",
    "\n",
    "x2 = np.linspace(0.5, 55.0, 100)\n",
    "y2 = a * x + b + np.random.normal(0.5, 1.0, len(x2))"
   ]
  },
  {
   "cell_type": "code",
   "execution_count": 145,
   "metadata": {},
   "outputs": [
    {
     "data": {
      "text/plain": [
       "array([ 0.5       ,  1.05050505,  1.6010101 ,  2.15151515,  2.7020202 ,\n",
       "        3.25252525,  3.8030303 ,  4.35353535,  4.9040404 ,  5.45454545,\n",
       "        6.00505051,  6.55555556,  7.10606061,  7.65656566,  8.20707071,\n",
       "        8.75757576,  9.30808081,  9.85858586, 10.40909091, 10.95959596,\n",
       "       11.51010101, 12.06060606, 12.61111111, 13.16161616, 13.71212121,\n",
       "       14.26262626, 14.81313131, 15.36363636, 15.91414141, 16.46464646,\n",
       "       17.01515152, 17.56565657, 18.11616162, 18.66666667, 19.21717172,\n",
       "       19.76767677, 20.31818182, 20.86868687, 21.41919192, 21.96969697,\n",
       "       22.52020202, 23.07070707, 23.62121212, 24.17171717, 24.72222222,\n",
       "       25.27272727, 25.82323232, 26.37373737, 26.92424242, 27.47474747,\n",
       "       28.02525253, 28.57575758, 29.12626263, 29.67676768, 30.22727273,\n",
       "       30.77777778, 31.32828283, 31.87878788, 32.42929293, 32.97979798,\n",
       "       33.53030303, 34.08080808, 34.63131313, 35.18181818, 35.73232323,\n",
       "       36.28282828, 36.83333333, 37.38383838, 37.93434343, 38.48484848,\n",
       "       39.03535354, 39.58585859, 40.13636364, 40.68686869, 41.23737374,\n",
       "       41.78787879, 42.33838384, 42.88888889, 43.43939394, 43.98989899,\n",
       "       44.54040404, 45.09090909, 45.64141414, 46.19191919, 46.74242424,\n",
       "       47.29292929, 47.84343434, 48.39393939, 48.94444444, 49.49494949,\n",
       "       50.04545455, 50.5959596 , 51.14646465, 51.6969697 , 52.24747475,\n",
       "       52.7979798 , 53.34848485, 53.8989899 , 54.44949495, 55.        ])"
      ]
     },
     "execution_count": 145,
     "metadata": {},
     "output_type": "execute_result"
    }
   ],
   "source": [
    "x2 # Generate an array for the second group of dataset."
   ]
  },
  {
   "cell_type": "code",
   "execution_count": 174,
   "metadata": {},
   "outputs": [
    {
     "data": {
      "text/plain": [
       "100"
      ]
     },
     "execution_count": 174,
     "metadata": {},
     "output_type": "execute_result"
    }
   ],
   "source": [
    "len(x2)"
   ]
  },
  {
   "cell_type": "code",
   "execution_count": 176,
   "metadata": {},
   "outputs": [
    {
     "data": {
      "text/plain": [
       "array([106.25860955, 106.35010441, 105.65391875, 107.3412495 ,\n",
       "       105.5106166 , 106.45854309, 105.01130371, 105.19997798,\n",
       "       105.15258788, 105.19016195, 105.08366937, 105.79507386,\n",
       "       105.27826723, 105.77242602, 106.4345272 , 105.84044686,\n",
       "       104.51465328, 104.93011244, 106.01143189, 105.75814927,\n",
       "       103.68591027, 104.84257186, 104.92668737, 106.77272563,\n",
       "       106.71419413, 105.80940249, 106.7509329 , 104.17661317,\n",
       "       105.09358873, 106.76428458, 106.35964135, 104.96191473,\n",
       "       105.98042395, 105.81598736, 105.23334063, 105.63924312,\n",
       "       106.39966417, 104.9690697 , 104.55823729, 105.26245506,\n",
       "       106.31931636, 107.25377001, 105.65397813, 105.33350573,\n",
       "       106.36619579, 104.80551832, 107.48667578, 104.88368039,\n",
       "       107.48773846, 105.1904248 , 105.77614465, 105.52622837,\n",
       "       105.89004838, 106.2711131 , 104.26403435, 105.19504141,\n",
       "       105.26565179, 105.5763977 , 106.20654324, 105.63979541,\n",
       "       105.24980321, 103.29671072, 105.03985256, 106.12889623,\n",
       "       106.94608064, 105.11732076, 104.9955585 , 105.21581548,\n",
       "       105.5839989 , 104.12901932, 105.01494155, 103.79378256,\n",
       "       105.78959016, 106.53064533, 104.07165129, 105.7939782 ,\n",
       "       105.68493679, 104.66695587, 105.50415701, 105.92624162,\n",
       "       104.67880899, 105.94908147, 106.2173819 , 105.9636338 ,\n",
       "       104.67009229, 105.40968445, 107.33265485, 104.50804287,\n",
       "       105.2511442 , 102.56263106, 103.69297754, 106.04901071,\n",
       "       108.39635197, 103.55831051, 105.23391884, 104.46045278,\n",
       "       106.41749166, 106.02193381, 104.31363651, 105.71941244])"
      ]
     },
     "execution_count": 176,
     "metadata": {},
     "output_type": "execute_result"
    }
   ],
   "source": [
    "y2 # Generate its correponding array."
   ]
  },
  {
   "cell_type": "code",
   "execution_count": 177,
   "metadata": {},
   "outputs": [
    {
     "data": {
      "text/plain": [
       "array([-9.94743406e-03,  1.05791452e+02])"
      ]
     },
     "execution_count": 177,
     "metadata": {},
     "output_type": "execute_result"
    }
   ],
   "source": [
    "np.polyfit(x2, y2, 1)"
   ]
  },
  {
   "cell_type": "markdown",
   "metadata": {},
   "source": [
    "### Dataset 3"
   ]
  },
  {
   "cell_type": "code",
   "execution_count": 179,
   "metadata": {},
   "outputs": [],
   "source": [
    "a = 0.7\n",
    "b = 45.0\n",
    "\n",
    "x3 = np.linspace(0.7, 45.0, 100)\n",
    "y3 = a * x + b + np.random.normal(0.7, 1.0, len(x3))"
   ]
  },
  {
   "cell_type": "code",
   "execution_count": 180,
   "metadata": {},
   "outputs": [
    {
     "data": {
      "text/plain": [
       "array([ 0.7       ,  1.14747475,  1.59494949,  2.04242424,  2.48989899,\n",
       "        2.93737374,  3.38484848,  3.83232323,  4.27979798,  4.72727273,\n",
       "        5.17474747,  5.62222222,  6.06969697,  6.51717172,  6.96464646,\n",
       "        7.41212121,  7.85959596,  8.30707071,  8.75454545,  9.2020202 ,\n",
       "        9.64949495, 10.0969697 , 10.54444444, 10.99191919, 11.43939394,\n",
       "       11.88686869, 12.33434343, 12.78181818, 13.22929293, 13.67676768,\n",
       "       14.12424242, 14.57171717, 15.01919192, 15.46666667, 15.91414141,\n",
       "       16.36161616, 16.80909091, 17.25656566, 17.7040404 , 18.15151515,\n",
       "       18.5989899 , 19.04646465, 19.49393939, 19.94141414, 20.38888889,\n",
       "       20.83636364, 21.28383838, 21.73131313, 22.17878788, 22.62626263,\n",
       "       23.07373737, 23.52121212, 23.96868687, 24.41616162, 24.86363636,\n",
       "       25.31111111, 25.75858586, 26.20606061, 26.65353535, 27.1010101 ,\n",
       "       27.54848485, 27.9959596 , 28.44343434, 28.89090909, 29.33838384,\n",
       "       29.78585859, 30.23333333, 30.68080808, 31.12828283, 31.57575758,\n",
       "       32.02323232, 32.47070707, 32.91818182, 33.36565657, 33.81313131,\n",
       "       34.26060606, 34.70808081, 35.15555556, 35.6030303 , 36.05050505,\n",
       "       36.4979798 , 36.94545455, 37.39292929, 37.84040404, 38.28787879,\n",
       "       38.73535354, 39.18282828, 39.63030303, 40.07777778, 40.52525253,\n",
       "       40.97272727, 41.42020202, 41.86767677, 42.31515152, 42.76262626,\n",
       "       43.21010101, 43.65757576, 44.10505051, 44.55252525, 45.        ])"
      ]
     },
     "execution_count": 180,
     "metadata": {},
     "output_type": "execute_result"
    }
   ],
   "source": [
    "x3 # Generate an array for the third group of dataset."
   ]
  },
  {
   "cell_type": "code",
   "execution_count": 181,
   "metadata": {},
   "outputs": [
    {
     "data": {
      "text/plain": [
       "array([116.27515672, 114.5779162 , 114.73636767, 116.44702051,\n",
       "       116.05407058, 115.146329  , 114.44644995, 115.10252324,\n",
       "       115.87335883, 116.86861738, 113.49850901, 116.15600724,\n",
       "       115.7863903 , 118.20140297, 114.61734944, 115.47597147,\n",
       "       117.42216847, 116.68792772, 114.15879682, 117.28983299,\n",
       "       117.26607619, 114.33132619, 115.58620233, 116.12473214,\n",
       "       114.84783061, 115.44974279, 117.09429502, 117.27357789,\n",
       "       115.20615457, 116.02493245, 114.69572807, 114.8067736 ,\n",
       "       114.63770416, 114.66301948, 114.92543678, 115.53890308,\n",
       "       114.77717972, 115.24850911, 115.12939652, 115.09023349,\n",
       "       116.29979689, 116.38751932, 116.09459266, 113.77641369,\n",
       "       113.3550378 , 116.36933833, 114.57090821, 116.52885932,\n",
       "       113.51783435, 115.9086606 , 116.19344382, 115.90588432,\n",
       "       113.58668367, 116.62001249, 117.11184566, 115.56681778,\n",
       "       115.98173379, 116.37272519, 115.48505767, 114.98476736,\n",
       "       113.92211696, 116.34942405, 115.45212204, 116.01864483,\n",
       "       115.52770566, 117.19657761, 115.52526253, 118.04001598,\n",
       "       116.27506455, 115.39018241, 114.52511454, 114.88958828,\n",
       "       116.83942619, 115.83298388, 114.16476884, 115.6035661 ,\n",
       "       116.91924056, 114.99046332, 115.60860204, 115.65089526,\n",
       "       116.29481645, 115.83719405, 116.68102781, 116.43347113,\n",
       "       116.62578153, 113.98480874, 115.33424519, 116.95295926,\n",
       "       114.72033284, 114.44555752, 115.41772694, 115.66009642,\n",
       "       116.13278516, 116.40501909, 115.81009077, 116.63982784,\n",
       "       114.33788408, 116.9175931 , 114.24644203, 117.49451679])"
      ]
     },
     "execution_count": 181,
     "metadata": {},
     "output_type": "execute_result"
    }
   ],
   "source": [
    "y3 # Generate its correponding array."
   ]
  },
  {
   "cell_type": "code",
   "execution_count": 182,
   "metadata": {},
   "outputs": [
    {
     "data": {
      "text/plain": [
       "array([4.96534331e-03, 1.15539060e+02])"
      ]
     },
     "execution_count": 182,
     "metadata": {},
     "output_type": "execute_result"
    }
   ],
   "source": [
    "np.polyfit(x3, y3, 1)"
   ]
  },
  {
   "cell_type": "markdown",
   "metadata": {},
   "source": [
    "### Dataset 4"
   ]
  },
  {
   "cell_type": "code",
   "execution_count": 226,
   "metadata": {},
   "outputs": [],
   "source": [
    "a = 0.1\n",
    "b = 60\n",
    "\n",
    "x4 = np.linspace(0.1, 60.0,100)\n",
    "y4 = a * x + b + np.random.normal(0.1, 1.0, len(x4))"
   ]
  },
  {
   "cell_type": "code",
   "execution_count": 227,
   "metadata": {},
   "outputs": [
    {
     "data": {
      "text/plain": [
       "array([ 0.1       ,  0.70505051,  1.31010101,  1.91515152,  2.52020202,\n",
       "        3.12525253,  3.73030303,  4.33535354,  4.94040404,  5.54545455,\n",
       "        6.15050505,  6.75555556,  7.36060606,  7.96565657,  8.57070707,\n",
       "        9.17575758,  9.78080808, 10.38585859, 10.99090909, 11.5959596 ,\n",
       "       12.2010101 , 12.80606061, 13.41111111, 14.01616162, 14.62121212,\n",
       "       15.22626263, 15.83131313, 16.43636364, 17.04141414, 17.64646465,\n",
       "       18.25151515, 18.85656566, 19.46161616, 20.06666667, 20.67171717,\n",
       "       21.27676768, 21.88181818, 22.48686869, 23.09191919, 23.6969697 ,\n",
       "       24.3020202 , 24.90707071, 25.51212121, 26.11717172, 26.72222222,\n",
       "       27.32727273, 27.93232323, 28.53737374, 29.14242424, 29.74747475,\n",
       "       30.35252525, 30.95757576, 31.56262626, 32.16767677, 32.77272727,\n",
       "       33.37777778, 33.98282828, 34.58787879, 35.19292929, 35.7979798 ,\n",
       "       36.4030303 , 37.00808081, 37.61313131, 38.21818182, 38.82323232,\n",
       "       39.42828283, 40.03333333, 40.63838384, 41.24343434, 41.84848485,\n",
       "       42.45353535, 43.05858586, 43.66363636, 44.26868687, 44.87373737,\n",
       "       45.47878788, 46.08383838, 46.68888889, 47.29393939, 47.8989899 ,\n",
       "       48.5040404 , 49.10909091, 49.71414141, 50.31919192, 50.92424242,\n",
       "       51.52929293, 52.13434343, 52.73939394, 53.34444444, 53.94949495,\n",
       "       54.55454545, 55.15959596, 55.76464646, 56.36969697, 56.97474747,\n",
       "       57.57979798, 58.18484848, 58.78989899, 59.39494949, 60.        ])"
      ]
     },
     "execution_count": 227,
     "metadata": {},
     "output_type": "execute_result"
    }
   ],
   "source": [
    "x4 # Generate an array for the fourth group of dataset."
   ]
  },
  {
   "cell_type": "code",
   "execution_count": 228,
   "metadata": {},
   "outputs": [
    {
     "data": {
      "text/plain": [
       "array([70.06403453, 69.16262007, 71.40098998, 69.80849286, 69.59898731,\n",
       "       69.4230002 , 71.11857605, 70.7924227 , 69.97854674, 68.48145808,\n",
       "       71.29184468, 69.90413323, 70.35594252, 69.96532189, 70.44808382,\n",
       "       68.74333587, 69.58263449, 69.09986895, 71.13265537, 68.82418374,\n",
       "       70.86202005, 70.1666529 , 69.94258738, 68.8292999 , 70.38618867,\n",
       "       70.15728639, 70.08700348, 68.93082011, 70.11546782, 72.58036602,\n",
       "       70.16206932, 70.32423946, 71.00562062, 70.43208931, 70.69637382,\n",
       "       70.02657685, 70.86098983, 70.5242157 , 70.35503471, 71.90568049,\n",
       "       69.84020374, 70.70720059, 69.67145848, 71.68100068, 70.80717856,\n",
       "       70.82817081, 69.59884719, 69.21095332, 68.93629611, 72.3194814 ,\n",
       "       70.6562896 , 69.61409664, 69.39077329, 69.98133971, 70.82006645,\n",
       "       68.60481079, 69.91438093, 70.91378357, 69.85245871, 69.80048357,\n",
       "       69.71624049, 70.1323105 , 70.39653163, 70.15821946, 70.14991859,\n",
       "       72.29251697, 71.77892111, 69.40537834, 69.82572816, 70.52371204,\n",
       "       70.68483345, 68.88576097, 70.76637717, 70.26214687, 70.25338529,\n",
       "       70.49460855, 69.95005948, 69.74038016, 70.29136191, 70.9208766 ,\n",
       "       71.00166958, 68.94508749, 69.04104702, 71.06283823, 72.00903863,\n",
       "       68.34029444, 70.60126232, 69.78941549, 67.20806609, 69.12932298,\n",
       "       69.7180074 , 70.55878197, 70.37510338, 70.15507197, 69.81017055,\n",
       "       71.65415672, 71.16223183, 70.00881718, 69.71177769, 69.54154608])"
      ]
     },
     "execution_count": 228,
     "metadata": {},
     "output_type": "execute_result"
    }
   ],
   "source": [
    "y4 # Generate its correponding array."
   ]
  },
  {
   "cell_type": "code",
   "execution_count": 229,
   "metadata": {},
   "outputs": [
    {
     "data": {
      "text/plain": [
       "array([-9.44572163e-05,  7.01741381e+01])"
      ]
     },
     "execution_count": 229,
     "metadata": {},
     "output_type": "execute_result"
    }
   ],
   "source": [
    "np.polyfit(x4, y4, 1)"
   ]
  },
  {
   "cell_type": "markdown",
   "metadata": {},
   "source": [
    "## Generate trend lines"
   ]
  },
  {
   "cell_type": "code",
   "execution_count": 188,
   "metadata": {},
   "outputs": [],
   "source": [
    "# magic command in Ipython to display the output.  \n",
    "%matplotlib inline\n",
    "\n",
    "# Numercial arrays and fitting lines\n",
    "import numpy as np\n",
    "# Plots.\n",
    "%matplotlib inline\n",
    "import matplotlib.pyplot as plt\n",
    "# Data visualisation\n",
    "import seaborn as sns\n",
    "# Nicer plot style.\n",
    "plt.style.use('ggplot')\n",
    "# Bigger plots.\n",
    "plt.rcParams['figure.figsize'] = 14, 10\n",
    "\n",
    "\n"
   ]
  },
  {
   "cell_type": "markdown",
   "metadata": {},
   "source": [
    "### Dataset 1 parameters"
   ]
  },
  {
   "cell_type": "code",
   "execution_count": 230,
   "metadata": {},
   "outputs": [
    {
     "data": {
      "text/plain": [
       "<matplotlib.axes._subplots.AxesSubplot at 0xd2446a0>"
      ]
     },
     "execution_count": 230,
     "metadata": {},
     "output_type": "execute_result"
    },
    {
     "data": {
      "image/png": "[encoded data removed]",
      "text/plain": [
       "<Figure size 1008x720 with 1 Axes>"
      ]
     },
     "metadata": {},
     "output_type": "display_data"
    }
   ],
   "source": [
    "sns.regplot(x = x1, y = y1) # Plot data and a linear regression model fit[ see references [4],\n",
    "# for first dataset parameters, to visualise trend. "
   ]
  },
  {
   "cell_type": "markdown",
   "metadata": {},
   "source": [
    "An horizontal Line Regression trend is displayed on the above plot."
   ]
  },
  {
   "cell_type": "markdown",
   "metadata": {},
   "source": [
    "\n",
    "\"The horizontal line regression model is a model with no independent variables.\"[8]\n",
    "\n"
   ]
  },
  {
   "cell_type": "markdown",
   "metadata": {},
   "source": [
    "### Dataset 2 parameters"
   ]
  },
  {
   "cell_type": "code",
   "execution_count": 231,
   "metadata": {},
   "outputs": [
    {
     "data": {
      "text/plain": [
       "<matplotlib.axes._subplots.AxesSubplot at 0xd253bf8>"
      ]
     },
     "execution_count": 231,
     "metadata": {},
     "output_type": "execute_result"
    },
    {
     "data": {
      "image/png": "[encoded data removed]",
      "text/plain": [
       "<Figure size 1008x720 with 1 Axes>"
      ]
     },
     "metadata": {},
     "output_type": "display_data"
    }
   ],
   "source": [
    "sns.regplot(x = x2, y = y2)# Plot data and a linear regression model fit[ see reference [4], \n",
    "# for second dataset parameters, to visualise trend. "
   ]
  },
  {
   "cell_type": "markdown",
   "metadata": {},
   "source": [
    "An horizontal Line Regression trend is displayed on the above plot."
   ]
  },
  {
   "cell_type": "markdown",
   "metadata": {},
   "source": [
    "### Dataset 3 parameters"
   ]
  },
  {
   "cell_type": "code",
   "execution_count": 232,
   "metadata": {},
   "outputs": [
    {
     "data": {
      "text/plain": [
       "<matplotlib.axes._subplots.AxesSubplot at 0xe1e5838>"
      ]
     },
     "execution_count": 232,
     "metadata": {},
     "output_type": "execute_result"
    },
    {
     "data": {
      "image/png": "[encoded data removed]",
      "text/plain": [
       "<Figure size 1008x720 with 1 Axes>"
      ]
     },
     "metadata": {},
     "output_type": "display_data"
    }
   ],
   "source": [
    "sns.regplot(x = x3, y = y3)# Plot data and a linear regression model fit[ see reference [4], \n",
    "# for third dataset parameters, to visualise trend. "
   ]
  },
  {
   "cell_type": "markdown",
   "metadata": {},
   "source": [
    "An horizontal Line Regression trend is displayed on the above plot."
   ]
  },
  {
   "cell_type": "markdown",
   "metadata": {},
   "source": [
    "### Dataset 4 parameters"
   ]
  },
  {
   "cell_type": "code",
   "execution_count": 233,
   "metadata": {},
   "outputs": [
    {
     "data": {
      "text/plain": [
       "<matplotlib.axes._subplots.AxesSubplot at 0xe40fd90>"
      ]
     },
     "execution_count": 233,
     "metadata": {},
     "output_type": "execute_result"
    },
    {
     "data": {
      "image/png": "[encoded data removed]",
      "text/plain": [
       "<Figure size 1008x720 with 1 Axes>"
      ]
     },
     "metadata": {},
     "output_type": "display_data"
    }
   ],
   "source": [
    "sns.regplot( x = x4, y = y4)# Plot data and a linear regression model fit[ see reference [4], \n",
    "# for fouth dataset parameters, to visualise trend. "
   ]
  },
  {
   "cell_type": "markdown",
   "metadata": {},
   "source": [
    "An horizontal Line Regression trend is displayed on the above plot."
   ]
  },
  {
   "cell_type": "markdown",
   "metadata": {},
   "source": [
    "### Demonstrate Simpson's paradox by combining parameters of different groups using seaborn sns.regplot () function"
   ]
  },
  {
   "cell_type": "markdown",
   "metadata": {},
   "source": [
    "### Combining Group 1 with group 2"
   ]
  },
  {
   "cell_type": "code",
   "execution_count": 234,
   "metadata": {},
   "outputs": [
    {
     "data": {
      "text/plain": [
       "<matplotlib.axes._subplots.AxesSubplot at 0xe415f88>"
      ]
     },
     "execution_count": 234,
     "metadata": {},
     "output_type": "execute_result"
    },
    {
     "data": {
      "image/png": "[encoded data removed]",
      "text/plain": [
       "<Figure size 1008x720 with 1 Axes>"
      ]
     },
     "metadata": {},
     "output_type": "display_data"
    }
   ],
   "source": [
    "sns.regplot(x = x1, y = x2) # Demonstrate the Simpson's paradox combining parameters of different groups(see reference[1])."
   ]
  },
  {
   "cell_type": "markdown",
   "metadata": {},
   "source": [
    "A positive trend is displayed on the above plot demonstrating the Simpson's paradox.\n"
   ]
  },
  {
   "cell_type": "markdown",
   "metadata": {},
   "source": [
    "### Combining Group 3 with group 4"
   ]
  },
  {
   "cell_type": "code",
   "execution_count": 235,
   "metadata": {},
   "outputs": [
    {
     "data": {
      "text/plain": [
       "<matplotlib.axes._subplots.AxesSubplot at 0xd1fce68>"
      ]
     },
     "execution_count": 235,
     "metadata": {},
     "output_type": "execute_result"
    },
    {
     "data": {
      "image/png": "[encoded data removed]",
      "text/plain": [
       "<Figure size 1008x720 with 1 Axes>"
      ]
     },
     "metadata": {},
     "output_type": "display_data"
    }
   ],
   "source": [
    "sns.regplot(x = x3, y = x4) # Demonstrate the Simpson's paradox combining parameters of different groups(see reference 1). "
   ]
  },
  {
   "cell_type": "markdown",
   "metadata": {},
   "source": [
    "A positive trend seen on the above plot,demonstrating the Simpson's paradox."
   ]
  },
  {
   "cell_type": "code",
   "execution_count": 236,
   "metadata": {},
   "outputs": [
    {
     "data": {
      "image/png": "[encoded data removed]",
      "text/plain": [
       "<Figure size 1008x720 with 1 Axes>"
      ]
     },
     "metadata": {},
     "output_type": "display_data"
    }
   ],
   "source": [
    "# Plot the above 2 plots on one plot. \n",
    "sns.regplot (x1, x2, '.', label=\"Dataset 1\" \"and\" \" Dataset 2\" \" x variables\")\n",
    "sns.regplot (x3, x4, '.', label=\"Dataset 3\" \"and\" \"Dataset 4\"  \" x variables\")\n",
    "plt.legend();"
   ]
  },
  {
   "cell_type": "markdown",
   "metadata": {},
   "source": [
    "Positive trend is maintained indicating a relationship between varaibles as seen on the above plot."
   ]
  },
  {
   "cell_type": "markdown",
   "metadata": {},
   "source": [
    "#### However trend lines remain while all four datasets are synchronized "
   ]
  },
  {
   "cell_type": "code",
   "execution_count": 237,
   "metadata": {},
   "outputs": [
    {
     "data": {
      "image/png": "[encoded data removed]",
      "text/plain": [
       "<Figure size 1008x720 with 1 Axes>"
      ]
     },
     "metadata": {},
     "output_type": "display_data"
    }
   ],
   "source": [
    "# Plot all four plots on one plot.\n",
    "sns.regplot (x1, y1, '.', label=\"Data set 1\")\n",
    "sns.regplot (x2, y2, '.', label=\"Data set 2\")\n",
    "sns.regplot (x3, y3, '.', label=\"Data set 3\")\n",
    "sns.regplot (x4, y4, '.', label=\"Data set 4\")\n",
    "plt.legend();"
   ]
  },
  {
   "cell_type": "markdown",
   "metadata": {},
   "source": [
    "Trend lines of linear regression remain while all four entities are synchronized as seen on the plot above."
   ]
  },
  {
   "cell_type": "markdown",
   "metadata": {},
   "source": [
    "### Fitting with polyfit"
   ]
  },
  {
   "cell_type": "markdown",
   "metadata": {},
   "source": [
    "### About coefficients using numpy np.polyfit function"
   ]
  },
  {
   "cell_type": "code",
   "execution_count": 238,
   "metadata": {},
   "outputs": [
    {
     "data": {
      "text/plain": [
       "array([-8.62326735e-03,  3.02006481e+01])"
      ]
     },
     "execution_count": 238,
     "metadata": {},
     "output_type": "execute_result"
    }
   ],
   "source": [
    "# Coefficients for the dataset 1 x variable and its correspondent y variable.\n",
    "np.polyfit(x1, y1, 1)"
   ]
  },
  {
   "cell_type": "code",
   "execution_count": 239,
   "metadata": {},
   "outputs": [
    {
     "data": {
      "text/plain": [
       "array([-9.94743406e-03,  1.05791452e+02])"
      ]
     },
     "execution_count": 239,
     "metadata": {},
     "output_type": "execute_result"
    }
   ],
   "source": [
    "# Coefficients for the dataset 2 x variable and its correspondent y variable.\n",
    "np.polyfit(x2, y2, 1)"
   ]
  },
  {
   "cell_type": "code",
   "execution_count": 240,
   "metadata": {},
   "outputs": [
    {
     "data": {
      "text/plain": [
       "array([4.96534331e-03, 1.15539060e+02])"
      ]
     },
     "execution_count": 240,
     "metadata": {},
     "output_type": "execute_result"
    }
   ],
   "source": [
    "# Coefficients for the dataset 3 x variable and its correspondent y variable.\n",
    "np.polyfit(x3, y3, 1)"
   ]
  },
  {
   "cell_type": "code",
   "execution_count": 241,
   "metadata": {},
   "outputs": [
    {
     "data": {
      "text/plain": [
       "array([-9.44572163e-05,  7.01741381e+01])"
      ]
     },
     "execution_count": 241,
     "metadata": {},
     "output_type": "execute_result"
    }
   ],
   "source": [
    "# Coefficients for the dataset 4 x variable and its correspondent y variable.\n",
    "np.polyfit(x4, y4, 1)"
   ]
  },
  {
   "cell_type": "markdown",
   "metadata": {},
   "source": [
    "### Fit each using polyfit."
   ]
  },
  {
   "cell_type": "code",
   "execution_count": 242,
   "metadata": {},
   "outputs": [
    {
     "data": {
      "text/plain": [
       "array([-8.62326735e-03,  3.02006481e+01])"
      ]
     },
     "execution_count": 242,
     "metadata": {},
     "output_type": "execute_result"
    }
   ],
   "source": [
    "# Fit dataset 1 using polyfit.\n",
    "coeffs1 = np.polyfit(x1, y1, 1)\n",
    "coeffs1"
   ]
  },
  {
   "cell_type": "code",
   "execution_count": 243,
   "metadata": {},
   "outputs": [
    {
     "data": {
      "text/plain": [
       "array([-9.94743406e-03,  1.05791452e+02])"
      ]
     },
     "execution_count": 243,
     "metadata": {},
     "output_type": "execute_result"
    }
   ],
   "source": [
    "# Fit dataset 2 using polyfit.\n",
    "coeffs2 = np.polyfit(x2, y2, 1)\n",
    "coeffs2"
   ]
  },
  {
   "cell_type": "code",
   "execution_count": 244,
   "metadata": {},
   "outputs": [
    {
     "data": {
      "text/plain": [
       "array([4.96534331e-03, 1.15539060e+02])"
      ]
     },
     "execution_count": 244,
     "metadata": {},
     "output_type": "execute_result"
    }
   ],
   "source": [
    "# Fit dataset 3 using polyfit.\n",
    "coeffs3 = np.polyfit(x3, y3, 1)\n",
    "coeffs3"
   ]
  },
  {
   "cell_type": "code",
   "execution_count": 245,
   "metadata": {},
   "outputs": [
    {
     "data": {
      "text/plain": [
       "array([-9.44572163e-05,  7.01741381e+01])"
      ]
     },
     "execution_count": 245,
     "metadata": {},
     "output_type": "execute_result"
    }
   ],
   "source": [
    "# # Fit dataset 4 using polyfit.\n",
    "coeffs4 = np.polyfit(x4, y4, 1)\n",
    "coeffs4"
   ]
  },
  {
   "cell_type": "markdown",
   "metadata": {},
   "source": [
    "### Demonstrate Simpson's paradox using coefficients with np.polyfit() function"
   ]
  },
  {
   "cell_type": "code",
   "execution_count": 246,
   "metadata": {},
   "outputs": [
    {
     "data": {
      "image/png": "[encoded data removed]",
      "text/plain": [
       "<Figure size 1008x720 with 1 Axes>"
      ]
     },
     "metadata": {},
     "output_type": "display_data"
    }
   ],
   "source": [
    "# Plot all four plots on one plot.\n",
    "plt.plot(x1, y1, '.', label=\"Data set 1\")\n",
    "plt.plot(x1, coeffs1[0] * x1 + coeffs1[1], '-', label='Best fit line 1')\n",
    "plt.plot(x2, y2, '.', label=\"Data set 2\")\n",
    "plt.plot(x2, coeffs2[0] * x2 + coeffs2[1], '-', label='Best fit line 2')\n",
    "\n",
    "plt.plot(x3, y3, '.', label=\"Data set 3\")\n",
    "plt.plot(x3, coeffs3[0] * x3 + coeffs3[1], '-', label='Best fit line 3')\n",
    "\n",
    "plt.plot(x4, y4, '.', label=\"Data set 4\")\n",
    "plt.plot(x4, coeffs4 [0] * x4 + coeffs4[1], '-', label='Best fit line 4')\n",
    "\n",
    "plt.legend();"
   ]
  },
  {
   "cell_type": "markdown",
   "metadata": {},
   "source": [
    "The trend remains when plotting with coefficients as seen on the above plot."
   ]
  },
  {
   "cell_type": "markdown",
   "metadata": {},
   "source": [
    "# End"
   ]
  },
  {
   "cell_type": "markdown",
   "metadata": {},
   "source": [
    "<cr>"
   ]
  },
  {
   "cell_type": "code",
   "execution_count": null,
   "metadata": {},
   "outputs": [],
   "source": []
  }
 ],
 "metadata": {
  "kernelspec": {
   "display_name": "Python 3",
   "language": "python",
   "name": "python3"
  },
  "language_info": {
   "codemirror_mode": {
    "name": "ipython",
    "version": 3
   },
   "file_extension": ".py",
   "mimetype": "text/x-python",
   "name": "python",
   "nbconvert_exporter": "python",
   "pygments_lexer": "ipython3",
   "version": "3.8.3"
  }
 },
 "nbformat": 4,
 "nbformat_minor": 2
}

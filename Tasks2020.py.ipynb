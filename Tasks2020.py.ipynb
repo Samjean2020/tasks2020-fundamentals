{
 "cells": [
  {
   "cell_type": "markdown",
   "metadata": {},
   "source": [
    "### Tasks 2020\n",
    "### Fundamentals of Data Analysis\n",
    "### Due: last commit on or before December 18th, 2020 \n"
   ]
  },
  {
   "cell_type": "markdown",
   "metadata": {},
   "source": [
    "These are my solutions to the Tasks assessment. The author is Jean Bonsenge (G00387887@gmit.ie). "
   ]
  },
  {
   "cell_type": "markdown",
   "metadata": {},
   "source": [
    "# Task 1"
   ]
  },
  {
   "cell_type": "markdown",
   "metadata": {},
   "source": [
    "October 5th, 2020: Write a Python function called counts that takes a list as input\n",
    "and returns a dictionary of unique items in the list as keys and the number of times \n",
    "each item appears as values. So, the input ['A', 'A', 'B', 'C', 'A'] should have output {'A': 3, 'B': 1, 'C': 1} . \n",
    "Your code should not depend on any module from the standard library or otherwise. \n",
    "You should research the task first and include a description with references of your algorithm in the notebook.\n"
   ]
  },
  {
   "cell_type": "markdown",
   "metadata": {},
   "source": [
    "# Introduction "
   ]
  },
  {
   "cell_type": "markdown",
   "metadata": {},
   "source": [
    "We can solve the above task using the dict.get() method. This approach enables the program to work more efficiently with \n",
    "minimal algorithm. The function .get() by default will return None if the key is not present [1, 2]. As a built-in function\n",
    "in Python count() will return the frequency of a specified item in list [3]. A driver function enables the Python interpreter \n",
    "to read the source code [4, 5]. "
   ]
  },
  {
   "cell_type": "markdown",
   "metadata": {},
   "source": [
    "# References"
   ]
  },
  {
   "cell_type": "markdown",
   "metadata": {},
   "source": [
    "[1] Counting the frequencies in a list using dictionary in python: https://www.geeksforgeeks.org/counting-the-frequencies-in-a-list-using-dictionary-in-python/\n",
    "\n",
    "[2] Built-in Data Structures, Functions and Files in Python for Data Analysis: \n",
    "    Data Wrangling with Pandas, NumPy, and IPython: Wes McKinney (2018) (O’ Reilly)\n",
    "\n",
    "[3] Python-list-function-count: www.geeksforgeeks.org/python-list-function-count\n",
    "\n",
    "[4] What does if __name__ == “__main__”: do? https://stackoverflow.com/questions/419163/what-does-if-name-main-do \n",
    "\n",
    "[5] File Formats Wiki “Python source file”:  https://fileformats.fandom.com/wiki/Python_source_file#:~:text=Python%20source%20files%20are%20files,up%20to%20display%20the%20output\n",
    "\n",
    "\n"
   ]
  },
  {
   "cell_type": "markdown",
   "metadata": {},
   "source": [
    "# Algorithm and comments "
   ]
  },
  {
   "cell_type": "code",
   "execution_count": 1,
   "metadata": {},
   "outputs": [
    {
     "name": "stdout",
     "output_type": "stream",
     "text": [
      "{'A': 3, 'B': 1, 'C': 1}\n"
     ]
    }
   ],
   "source": [
    "def counts(L):\n",
    "# A function that takes a list as input and returns a dictionary of unique items in the list\n",
    "# as keys and the number of times each item appears as values.\n",
    "\n",
    "# Create an empty dictionary where converted \n",
    "# list (L) will be stored. \n",
    "  count = {} \n",
    "# Set a for loop to loop over the bloc.\n",
    "  for i in [ 'A', 'A', 'B', 'C', 'A']:\n",
    "    count[i] = count.get (i, 0) +1 \n",
    "  return count\n",
    "# Use driver function to read the script.\n",
    "if __name__ == \"__main__\":\n",
    "   L = ['A', 'A', 'B', 'C', 'A']\n",
    "# Call the print () to execute the program.\n",
    "print (counts(L))\n"
   ]
  },
  {
   "cell_type": "markdown",
   "metadata": {},
   "source": [
    "# Test of the function "
   ]
  },
  {
   "cell_type": "markdown",
   "metadata": {},
   "source": [
    "Here we test the function counts, whether or not  the input ['A', 'A', 'B', 'C', 'A'] should have output {'A': 3, 'B': 1, 'C': 1}. "
   ]
  },
  {
   "cell_type": "code",
   "execution_count": 2,
   "metadata": {},
   "outputs": [
    {
     "name": "stdout",
     "output_type": "stream",
     "text": [
      "{'A': 3, 'B': 1, 'C': 1}\n"
     ]
    }
   ],
   "source": [
    "def counts(L):\n",
    "    count = {}\n",
    "    for i in [ 'A', 'A', 'B', 'C', 'A']:\n",
    "        count[i] = count.get (i, 0) +1\n",
    "    return count\n",
    "if __name__ == \"__main__\":\n",
    "    L = ['A', 'A', 'B', 'C', 'A']\n",
    "print (counts(L))"
   ]
  },
  {
   "cell_type": "markdown",
   "metadata": {},
   "source": [
    "The expected output is as above. It comes out after executing the program for the first time.\n",
    "This program may fail when the Python function called counts()is undefined. \n"
   ]
  },
  {
   "cell_type": "markdown",
   "metadata": {},
   "source": [
    "<cr>"
   ]
  },
  {
   "cell_type": "markdown",
   "metadata": {},
   "source": [
    "# Task 2 "
   ]
  },
  {
   "cell_type": "markdown",
   "metadata": {},
   "source": [
    "November 2nd 2020: Write a Python function called dicerolls that simulates rooling dice.\n",
    "Your function should take two parameters: the number of dice K and the number of\n",
    "times to roll the dice n. The function should simulate randomly rolling K dice n times, \n",
    "keeping track of each total face value. It should return a dictionary with\n",
    "the number of times each possible total face value occured. So, calling the function \n",
    "dicerolls(K=2, n=1000) should return a dictionary like:\n",
    "\n",
    "{2:19, 3:50, 4: 82, 5:112, 6:135, 7:174, 8:133, 9:114, 10:75, 11:70, 12:36}\n",
    "\n",
    "You can use any module from the Python standard library you wish and you should include\n",
    "a description with refrences of your alogorithm in the notebook. "
   ]
  },
  {
   "cell_type": "markdown",
   "metadata": {},
   "source": [
    "## Introduction"
   ]
  },
  {
   "cell_type": "markdown",
   "metadata": {},
   "source": [
    "We can solve the above task using the defined function dicerolls including its 2 parameters on the argument as follows: def dicerolls (k=2, n=1000). We have to create a variable contained an empty dictionary to accommodate frequencies of rooling dice simulation. The algorithm below works well[1]; but needs the function dicerolls (k=2, n=1000) incorporated. \n",
    "The function dicerolls is incorporated now[2]"
   ]
  },
  {
   "cell_type": "markdown",
   "metadata": {},
   "source": [
    "## References"
   ]
  },
  {
   "cell_type": "markdown",
   "metadata": {},
   "source": [
    "[1]. Stack Overflow:  Rolling 2 dice 1000 times and counting the number of times the sum of the two dice hit: https://stackoverflow.com/questions/60343980/rolling-2-dice-1000-times-and-counting-the-number-of-times-the-sum-of-the-two-di\n",
    "[2].Towards Data Science, John Kundycki (Nov 12) \"Use Python to build a Dice Roller App: A simple step-by-step guide to building a Dice Rolling Simulator\": https://towardsdatascience.com/use-python-to-build-a-dice-roller-app-2408e66bf009"
   ]
  },
  {
   "cell_type": "markdown",
   "metadata": {},
   "source": [
    "# Development"
   ]
  },
  {
   "cell_type": "markdown",
   "metadata": {},
   "source": [
    "# Code description"
   ]
  },
  {
   "cell_type": "markdown",
   "metadata": {},
   "source": [
    "## Algorithm and comments "
   ]
  },
  {
   "cell_type": "code",
   "execution_count": 15,
   "metadata": {},
   "outputs": [
    {
     "name": "stdout",
     "output_type": "stream",
     "text": [
      "defaultdict(<class 'int'>, {4: 101, 7: 85, 11: 85, 8: 97, 5: 94, 12: 85, 9: 97, 2: 96, 3: 97, 10: 76, 6: 87})\n"
     ]
    }
   ],
   "source": [
    "# Import relevant modules\n",
    "import numpy as np\n",
    "from collections import defaultdict\n",
    "from random import randint\n",
    "\n",
    "# Set up a variable to allocate the default dictionary function.\n",
    "rolls = defaultdict(int)\n",
    "# Set a Python function to execute instructions within a block.\n",
    "def dicerolls(k=2, n=1000): # The function encapsulates 2 parameters or arguments.\n",
    "    # Set up a loop.\n",
    "        for _ in range(n):\n",
    "    # Randonly generate integers for the dice.\n",
    "         k = randint(2, 12)\n",
    "                  \n",
    "    # Increase the corresponding output by 1\n",
    "         rolls[k] += 1\n",
    "        \n",
    "# Call the defined function dicerolls \n",
    "dicerolls(2, 1000)   \n",
    "\n",
    "# Print rolls.\n",
    "\n",
    "print(rolls)"
   ]
  },
  {
   "cell_type": "code",
   "execution_count": 20,
   "metadata": {},
   "outputs": [
    {
     "data": {
      "text/plain": [
       "defaultdict(int,\n",
       "            {8: 891,\n",
       "             4: 919,\n",
       "             5: 917,\n",
       "             7: 923,\n",
       "             2: 890,\n",
       "             3: 945,\n",
       "             10: 921,\n",
       "             12: 885,\n",
       "             6: 939,\n",
       "             9: 862,\n",
       "             11: 908})"
      ]
     },
     "execution_count": 20,
     "metadata": {},
     "output_type": "execute_result"
    }
   ],
   "source": [
    "# Reproducible result in a vertical shape.\n",
    "rolls"
   ]
  },
  {
   "cell_type": "markdown",
   "metadata": {},
   "source": [
    "## Test the algorithm"
   ]
  },
  {
   "cell_type": "code",
   "execution_count": 17,
   "metadata": {},
   "outputs": [
    {
     "name": "stdout",
     "output_type": "stream",
     "text": [
      "defaultdict(<class 'int'>, {8: 891, 4: 919, 5: 917, 7: 923, 2: 890, 3: 945, 10: 921, 12: 885, 6: 939, 9: 862, 11: 908})\n"
     ]
    }
   ],
   "source": [
    "# Import relevant modules\n",
    "import numpy as np\n",
    "from collections import defaultdict\n",
    "from random import randint\n",
    "\n",
    "# Set up a variable to allocate the default dictionary function.\n",
    "rolls = defaultdict(int)\n",
    "# Set a Python function to execute instructions within a block.\n",
    "def dicerolls(k=2, n=10000): # The function encapsulates 2 parameters or arguments.\n",
    "    # Set up a loop.\n",
    "        for _ in range(n):\n",
    "    # Randonly generate integers for the dice.\n",
    "         k = randint(2, 12)\n",
    "                  \n",
    "    # Increase the corresponding output by 1\n",
    "         rolls[k] += 1\n",
    "\n",
    "# The parameter n is increased to 10000 and we call dicerolls function.\n",
    "dicerolls(2, 10000)      \n",
    "        \n",
    "# Print rolls.\n",
    "print(rolls)"
   ]
  },
  {
   "cell_type": "code",
   "execution_count": 19,
   "metadata": {},
   "outputs": [
    {
     "data": {
      "text/plain": [
       "defaultdict(int,\n",
       "            {8: 891,\n",
       "             4: 919,\n",
       "             5: 917,\n",
       "             7: 923,\n",
       "             2: 890,\n",
       "             3: 945,\n",
       "             10: 921,\n",
       "             12: 885,\n",
       "             6: 939,\n",
       "             9: 862,\n",
       "             11: 908})"
      ]
     },
     "execution_count": 19,
     "metadata": {},
     "output_type": "execute_result"
    }
   ],
   "source": [
    "# Reproducible result in a vertical shape.\n",
    "rolls"
   ]
  },
  {
   "cell_type": "markdown",
   "metadata": {},
   "source": [
    "The algorithm may fail if both parameters ( k=2, n=1000) are not defined in the argument of the function dicerolls."
   ]
  },
  {
   "cell_type": "markdown",
   "metadata": {},
   "source": [
    "<cr>"
   ]
  },
  {
   "cell_type": "markdown",
   "metadata": {},
   "source": [
    "# Task 3"
   ]
  },
  {
   "cell_type": "markdown",
   "metadata": {},
   "source": [
    "November 16th, 2020: The numpy.random.binomial function can be used to\n",
    "simulate flipping a coin with a 50/50 chance of heads or tails. Interestingly, if a\n",
    "coin is flipped many times then the number of heads is well approximated by a\n",
    "bell-shaped curve. For instance, if we flip a coin 100 times in a row the chance of\n",
    "getting 50 heads is relatively high, the chances of getting 0 or 100 heads is relatively\n",
    "low, and the chances of getting any other number of heads decreases as you move\n",
    "away from 50 in either direction towards 0 or 100. Write some python code that\n",
    "simulates flipping a coin 100 times. Then run this code 1,000 times, keeping track\n",
    "of the number of heads in each of the 1,000 simulations. Select an appropriate\n",
    "plot to depict the resulting list of 1,000 numbers, showing that it roughly follows\n",
    "a bell-shaped curve. You should explain your work in a Markdown cell above the\n",
    "code."
   ]
  },
  {
   "cell_type": "markdown",
   "metadata": {},
   "source": [
    "## Introduction\n",
    "\n",
    "We can solve this problem by using the numpy.random.binomial function. In numpy.random.Generator.binomial with a method as Generator.binomial(n, p, size=None) we can draw samples from a binomial distribution. Samples are drawn from a binomial distribution with specified parameters, n trials and p probability of success where n an integer >= 0 and p is in the interval [0,1]. (n may be input as a float, but it is truncated to an integer in use) [1]\n"
   ]
  },
  {
   "cell_type": "markdown",
   "metadata": {},
   "source": [
    "## References\n",
    "\n",
    "[1] NumPy(2020) \"numpy.random.Generator.binomial\": https://numpy.org/doc/stable/reference/random/generated/numpy.random.Generator.binomial.html#numpy.random.Generator.binomial\n",
    "\n",
    "[2] Tutorialspoint(2020) \"Python - Normal Distribution\":  https://www.tutorialspoint.com/python_data_science/python_normal_distribution.htm\n"
   ]
  },
  {
   "cell_type": "markdown",
   "metadata": {},
   "source": [
    "## Development"
   ]
  },
  {
   "cell_type": "markdown",
   "metadata": {},
   "source": [
    "## Description of the code"
   ]
  },
  {
   "cell_type": "markdown",
   "metadata": {},
   "source": [
    "### Algorithm using the numpy.random.binomial function "
   ]
  },
  {
   "cell_type": "code",
   "execution_count": 13,
   "metadata": {},
   "outputs": [
    {
     "data": {
      "text/plain": [
       "0.0"
      ]
     },
     "execution_count": 13,
     "metadata": {},
     "output_type": "execute_result"
    }
   ],
   "source": [
    "# https://numpy.org/doc/stable/reference/random/generated/numpy.random.Generator.binomial.html#numpy.random.Generator.binomial\n",
    "# Draw samples from the distribution:\n",
    "# Import numpy and other necessary modules in Python\n",
    "import numpy as np\n",
    "import matplotlib.pyplot as plt\n",
    "import pandas as pd\n",
    "import seaborn as sns \n",
    "\n",
    "rng = np.random.default_rng()\n",
    "n, p = 100, .5  # number of trials, probability of each trial.\n",
    "\n",
    "s = rng.binomial(n, p, 1000)# number of time to run the code.\n",
    "\n",
    "# result of flipping a coin 100 times, tested 1000 times.\n",
    "\n",
    "sum(rng.binomial(100, 0.1, 1000) == 0)/1000.\n",
    "# answer = 0.38885, or 38%."
   ]
  },
  {
   "cell_type": "markdown",
   "metadata": {},
   "source": [
    "# Simulation"
   ]
  },
  {
   "cell_type": "code",
   "execution_count": 14,
   "metadata": {},
   "outputs": [
    {
     "data": {
      "text/plain": [
       "array([47, 49, 48, 50, 55, 47, 45, 50, 43, 52, 53, 45, 41, 49, 54, 52, 49,\n",
       "       49, 49, 52, 55, 45, 48, 52, 47, 52, 49, 54, 45, 49, 55, 49, 44, 46,\n",
       "       53, 42, 52, 53, 57, 40, 50, 60, 54, 42, 57, 44, 51, 42, 60, 47, 47,\n",
       "       52, 45, 59, 49, 50, 60, 51, 55, 50, 45, 49, 53, 52, 50, 49, 57, 52,\n",
       "       53, 46, 52, 44, 56, 47, 46, 50, 50, 52, 50, 46, 51, 46, 46, 54, 47,\n",
       "       45, 51, 49, 45, 49, 55, 62, 52, 51, 60, 46, 51, 62, 52, 52, 53, 54,\n",
       "       46, 39, 55, 48, 49, 44, 45, 45, 53, 47, 54, 51, 54, 52, 52, 46, 40,\n",
       "       56, 46, 53, 45, 49, 50, 55, 51, 47, 55, 49, 50, 54, 56, 51, 51, 54,\n",
       "       56, 50, 50, 49, 57, 49, 45, 56, 54, 51, 44, 47, 57, 48, 47, 52, 50,\n",
       "       43, 60, 59, 50, 52, 49, 55, 48, 42, 42, 45, 52, 45, 49, 49, 48, 46,\n",
       "       47, 56, 42, 64, 41, 50, 53, 49, 47, 49, 54, 60, 46, 48, 48, 59, 54,\n",
       "       50, 43, 42, 47, 48, 52, 39, 55, 56, 54, 51, 47, 56, 49, 59, 49, 47,\n",
       "       48, 47, 42, 47, 50, 51, 55, 58, 48, 44, 42, 39, 45, 55, 51, 50, 52,\n",
       "       48, 59, 46, 51, 49, 48, 48, 50, 49, 52, 46, 47, 47, 55, 52, 50, 55,\n",
       "       53, 58, 42, 54, 50, 46, 45, 42, 56, 50, 46, 56, 51, 49, 62, 49, 54,\n",
       "       60, 52, 51, 54, 52, 57, 46, 47, 45, 48, 47, 51, 47, 51, 56, 49, 53,\n",
       "       46, 49, 49, 50, 51, 48, 53, 42, 53, 55, 52, 50, 63, 51, 56, 44, 46,\n",
       "       46, 56, 47, 52, 52, 59, 47, 49, 45, 49, 54, 47, 54, 50, 50, 56, 43,\n",
       "       53, 56, 48, 46, 56, 50, 54, 43, 48, 54, 53, 50, 46, 46, 48, 53, 53,\n",
       "       54, 54, 46, 48, 42, 46, 41, 56, 53, 58, 52, 49, 48, 49, 44, 55, 51,\n",
       "       53, 46, 53, 49, 53, 40, 58, 44, 49, 56, 39, 49, 51, 52, 46, 54, 49,\n",
       "       51, 45, 49, 49, 50, 63, 49, 50, 50, 50, 56, 53, 45, 41, 56, 45, 54,\n",
       "       57, 55, 49, 55, 45, 42, 58, 60, 50, 47, 46, 47, 57, 54, 48, 55, 48,\n",
       "       50, 53, 47, 44, 45, 53, 53, 54, 53, 43, 48, 56, 56, 49, 49, 58, 54,\n",
       "       48, 48, 54, 42, 47, 50, 46, 49, 46, 50, 41, 50, 50, 53, 44, 44, 53,\n",
       "       44, 46, 50, 50, 46, 51, 50, 54, 50, 51, 45, 55, 56, 48, 47, 54, 47,\n",
       "       53, 49, 44, 46, 48, 41, 40, 49, 46, 37, 50, 48, 46, 51, 45, 54, 55,\n",
       "       46, 58, 48, 52, 43, 56, 43, 47, 58, 49, 50, 59, 48, 45, 36, 45, 49,\n",
       "       49, 56, 53, 44, 55, 53, 39, 52, 58, 52, 47, 47, 48, 54, 51, 54, 59,\n",
       "       55, 53, 46, 52, 49, 58, 48, 46, 46, 51, 56, 55, 39, 48, 50, 44, 46,\n",
       "       57, 47, 49, 50, 51, 55, 53, 49, 53, 43, 44, 51, 48, 47, 55, 58, 45,\n",
       "       51, 49, 57, 49, 44, 50, 51, 57, 57, 50, 51, 51, 50, 53, 49, 50, 49,\n",
       "       50, 42, 45, 49, 47, 50, 53, 40, 52, 50, 51, 56, 53, 43, 46, 50, 48,\n",
       "       53, 44, 56, 51, 44, 55, 49, 48, 50, 55, 46, 46, 61, 43, 45, 55, 47,\n",
       "       58, 52, 46, 54, 45, 56, 53, 43, 44, 48, 48, 49, 48, 50, 45, 51, 52,\n",
       "       58, 61, 45, 46, 48, 47, 44, 48, 46, 48, 53, 43, 58, 49, 44, 46, 47,\n",
       "       54, 51, 51, 53, 43, 49, 56, 48, 48, 54, 50, 57, 48, 39, 54, 55, 54,\n",
       "       56, 48, 57, 48, 46, 50, 40, 47, 42, 43, 40, 47, 54, 49, 53, 50, 58,\n",
       "       50, 56, 50, 47, 60, 46, 43, 61, 48, 46, 45, 46, 44, 48, 60, 51, 44,\n",
       "       47, 54, 54, 49, 48, 50, 51, 54, 49, 47, 50, 59, 53, 56, 54, 50, 48,\n",
       "       47, 51, 50, 45, 63, 54, 32, 47, 45, 47, 54, 51, 51, 49, 43, 48, 58,\n",
       "       56, 40, 42, 52, 51, 52, 49, 53, 52, 54, 55, 51, 35, 56, 50, 52, 39,\n",
       "       56, 46, 50, 51, 53, 43, 56, 49, 48, 52, 50, 46, 46, 53, 44, 53, 46,\n",
       "       61, 45, 54, 43, 43, 49, 45, 48, 50, 56, 47, 48, 40, 50, 41, 47, 52,\n",
       "       52, 53, 48, 54, 54, 44, 40, 58, 56, 53, 56, 54, 45, 48, 49, 53, 51,\n",
       "       51, 40, 54, 58, 49, 48, 54, 50, 49, 56, 45, 52, 48, 48, 45, 56, 52,\n",
       "       49, 55, 52, 52, 45, 56, 62, 50, 46, 49, 46, 43, 51, 48, 49, 47, 48,\n",
       "       43, 51, 45, 48, 46, 46, 56, 56, 57, 51, 51, 50, 56, 55, 52, 43, 45,\n",
       "       46, 43, 43, 56, 50, 53, 41, 53, 52, 44, 54, 44, 44, 45, 51, 51, 53,\n",
       "       58, 55, 40, 53, 59, 50, 47, 50, 61, 48, 42, 56, 53, 47, 38, 50, 44,\n",
       "       55, 58, 56, 54, 50, 50, 46, 52, 47, 52, 48, 48, 52, 51, 47, 54, 54,\n",
       "       50, 47, 43, 45, 48, 53, 46, 48, 48, 52, 51, 40, 60, 46, 51, 50, 48,\n",
       "       53, 53, 50, 49, 55, 49, 56, 53, 49, 43, 49, 46, 49, 47, 54, 47, 42,\n",
       "       50, 47, 43, 45, 50, 53, 51, 51, 43, 46, 54, 52, 48, 45, 54, 56, 48,\n",
       "       50, 53, 51, 55, 38, 57, 47, 55, 58, 54, 42, 54, 46, 51, 53, 51, 50,\n",
       "       45, 48, 40, 47, 53, 40, 53, 58, 53, 42, 59, 55, 49, 48, 40, 49, 52,\n",
       "       56, 45, 55, 54, 48, 53, 50, 52, 37, 47, 44, 51, 44, 49, 40, 52, 59,\n",
       "       54, 49, 50, 57, 45, 50, 54, 47, 64, 47, 49, 49, 45, 54, 47, 44, 49,\n",
       "       53, 55, 50, 46, 53, 52, 51, 56, 45, 55, 50, 52, 56, 46],\n",
       "      dtype=int64)"
      ]
     },
     "execution_count": 14,
     "metadata": {},
     "output_type": "execute_result"
    }
   ],
   "source": [
    "s"
   ]
  },
  {
   "cell_type": "code",
   "execution_count": 27,
   "metadata": {},
   "outputs": [
    {
     "data": {
      "text/plain": [
       "[<matplotlib.lines.Line2D at 0x90a0b98>]"
      ]
     },
     "execution_count": 27,
     "metadata": {},
     "output_type": "execute_result"
    },
    {
     "data": {
      "image/png": "[encoded data removed]",
      "text/plain": [
       "<Figure size 432x288 with 1 Axes>"
      ]
     },
     "metadata": {},
     "output_type": "display_data"
    }
   ],
   "source": [
    "plt.plot(s)"
   ]
  },
  {
   "cell_type": "code",
   "execution_count": 25,
   "metadata": {},
   "outputs": [
    {
     "data": {
      "text/plain": [
       "<matplotlib.collections.PathCollection at 0x917b8c8>"
      ]
     },
     "execution_count": 25,
     "metadata": {},
     "output_type": "execute_result"
    },
    {
     "data": {
      "image/png": "[encoded data removed]",
      "text/plain": [
       "<Figure size 432x288 with 1 Axes>"
      ]
     },
     "metadata": {},
     "output_type": "display_data"
    }
   ],
   "source": [
    "\n",
    "plt.scatter(n,p,1000)"
   ]
  },
  {
   "cell_type": "code",
   "execution_count": 2,
   "metadata": {},
   "outputs": [
    {
     "data": {
      "image/png": "[encoded data removed]",
      "text/plain": [
       "<Figure size 432x288 with 1 Axes>"
      ]
     },
     "metadata": {},
     "output_type": "display_data"
    }
   ],
   "source": [
    "# https://www.tutorialspoint.com/python_data_science/python_normal_distribution.htm\n",
    "\n",
    "import matplotlib.pyplot as plt\n",
    "import numpy as np\n",
    "\n",
    "mu, sigma = 100, .5\n",
    "\n",
    "s = np.random.normal(mu, sigma, 1000)\n",
    "\n",
    "# Create the bins and histogram\n",
    "count, bins, ignored = plt.hist(s, 20, density=True)\n",
    "\n",
    "# Plot the distribution curve\n",
    "plt.plot(bins, 1/(sigma * np.sqrt(2 * np.pi)) * np.exp( - (bins - mu)**2 / (2 * sigma**2) ), linewidth=3, color='b')\n",
    "plt.style.use(\"ggplot\")\n",
    "\n",
    "plt.show()"
   ]
  },
  {
   "cell_type": "markdown",
   "metadata": {},
   "source": [
    "<br>"
   ]
  },
  {
   "cell_type": "markdown",
   "metadata": {},
   "source": [
    "# Task 4 \n",
    "\n",
    "4. November 30th, 2020: Simpson’s paradox is a well-known statistical paradox where a trend evident in a number of groups reverses when the groups are combined into one big data set. Use numpy to create four data sets, each with an x array and a corresponding y array, to demonstrate Simpson’s paradox. You might create your x arrays using numpy.linspace and create the y array for each x using notation like y = a * x + b where you choose the a and b for each x , y pair to demonstrate the paradox. You might see the Wikipedia page for Simpson’s paradox for inspiration. "
   ]
  },
  {
   "cell_type": "markdown",
   "metadata": {},
   "source": [
    "# Introduction\n",
    "\n",
    "We can approach this question using Simpson's paradox continuous.svg script[1], numpy.linspace() function[2],numpy.random.normal[3],and seaborn.regplot[4]"
   ]
  },
  {
   "cell_type": "markdown",
   "metadata": {},
   "source": [
    "# References\n",
    "\n",
    "[1] Wikipedia(2020)File:Simpson's paradox continuous.svg. Schutz \"Example of the quantitative version of w:Simpson's paradox\":https://commons.wikimedia.org/wiki/File:Simpson%27s_paradox_continuous.svg (10/12/2020)\n",
    "\n",
    "[2] Numpy(2019) \"numpy.linspace\": https://numpy.org/doc/stable/reference/generated/numpy.linspace.html (10/12/2020)\n",
    "\n",
    "\n",
    "[3] Numpy(2020) numpy.random.normal: https://numpy.org/devdocs/reference/random/generated/numpy.random.normal.html (10/12/2020)\n",
    "\n",
    "[4] Seaborn(2020) \"seaborn.regplot\": http://seaborn.pydata.org/generated/seaborn.regplot.html (10/12/2020)\n"
   ]
  },
  {
   "cell_type": "markdown",
   "metadata": {},
   "source": [
    "# Development"
   ]
  },
  {
   "cell_type": "markdown",
   "metadata": {},
   "source": [
    "### Description of code"
   ]
  },
  {
   "cell_type": "markdown",
   "metadata": {},
   "source": [
    "import numpy as np; \n",
    "import seaborn as sns; \n",
    "import matplotlib.pyplot as plt;\n",
    "\n",
    "#Set variables a and x and b (see cells below)\n",
    "\n",
    "a = 0.0\n",
    "x = 100.0\n",
    "b = 30\n",
    "\n",
    "x1= np.linspace(0.0, 100.0, 30) # Return evenly spaced numbers over a specified interval for the first dataset (interval 0.0 and stop at 100 and generate 30 numbers).\n",
    "y1 = a * x + np.random.normal(0.0, 100.0, len(x1)) # Draw random samples from a normal distribution for the first dataset as set in x1.\n",
    "\n",
    "\n",
    "a = 0.5\n",
    "x = 100.0\n",
    "b = 30\n",
    "\n",
    "x2 = np.linspace(0.5, 100.0, 30)# Return evenly spaced numbers over a specified interval for the second dataset (interval 0.5 and stop at 100 and generate 30 numbers).\n",
    "y2 = a * x + np.random.normal(0.5, 100.0, len(x2)# Draw random samples from a normal distribution for the second dataset as set in x2.                   \n",
    "\n",
    "a = 0.7\n",
    "x = 100.0\n",
    "b = 20\n",
    "\n",
    "x3 = np.linspace(0.7, 100.0, 20)# Return evenly spaced numbers over a specified interval for the third dataset (interval 0.7 and stop at 100 and generate 20 numbers).\n",
    "y3 = a * x + np.random.normal(0.7, 100.0, len(x3))# Draw random samples from a normal distribution for the third dataset as\n",
    "set in x3\n",
    "\n",
    "a = 0.1\n",
    "x = 100.0\n",
    "b = 20\n",
    "\n",
    "x4 = np.linspace(0.1, 100.0, 20)# Return evenly spaced numbers over a specified interval for the fourth dataset (interval 0.1 and stop at 100 and generate 20 numbers).                              \n",
    "y4 = a * x + np.random.normal(0.1, 100.0, len(x4)) # Draw random samples from a normal distribution for the third dataset as set in x4\n",
    "\n"
   ]
  },
  {
   "cell_type": "code",
   "execution_count": null,
   "metadata": {},
   "outputs": [],
   "source": [
    "%matplotlib inline\n",
    "\n",
    "import matplotlib.pyplot as plt\n",
    "import numpy as np\n",
    "import seaborn as sns\n",
    "\n",
    "plt.style.use('ggplot')\n",
    "plt.rcParams['figure.figsize'] = 14, 10\n",
    "\n"
   ]
  },
  {
   "cell_type": "markdown",
   "metadata": {},
   "source": [
    "# Generate four datasets"
   ]
  },
  {
   "cell_type": "markdown",
   "metadata": {},
   "source": [
    "### Dataset 1"
   ]
  },
  {
   "cell_type": "code",
   "execution_count": 60,
   "metadata": {},
   "outputs": [],
   "source": [
    "import numpy as np\n",
    "\n",
    "a = 0.0\n",
    "x = 100.0\n",
    "b = 30\n",
    "\n",
    "x1 = np.linspace(0.0, 100.0, 30)\n",
    "y1 = a * x + np.random.normal(0, 100, len(x1))"
   ]
  },
  {
   "cell_type": "code",
   "execution_count": 24,
   "metadata": {},
   "outputs": [
    {
     "data": {
      "text/plain": [
       "array([  0.        ,   3.44827586,   6.89655172,  10.34482759,\n",
       "        13.79310345,  17.24137931,  20.68965517,  24.13793103,\n",
       "        27.5862069 ,  31.03448276,  34.48275862,  37.93103448,\n",
       "        41.37931034,  44.82758621,  48.27586207,  51.72413793,\n",
       "        55.17241379,  58.62068966,  62.06896552,  65.51724138,\n",
       "        68.96551724,  72.4137931 ,  75.86206897,  79.31034483,\n",
       "        82.75862069,  86.20689655,  89.65517241,  93.10344828,\n",
       "        96.55172414, 100.        ])"
      ]
     },
     "execution_count": 24,
     "metadata": {},
     "output_type": "execute_result"
    }
   ],
   "source": [
    "x1 # Generate an array for the first group of dataset."
   ]
  },
  {
   "cell_type": "code",
   "execution_count": 26,
   "metadata": {},
   "outputs": [
    {
     "data": {
      "text/plain": [
       "array([  19.84788953,   96.10823279, -112.53473537,  -64.84049595,\n",
       "        149.3341801 ,   89.61948863,  -17.79454665, -143.34865117,\n",
       "        194.21137324,   81.9237181 ,  -51.71197163,  -77.07939657,\n",
       "        209.68666172,   15.81852133,  137.64684782,   84.9450099 ,\n",
       "        -63.74655911,  -73.21085391,   19.28097432,   30.76398695,\n",
       "         27.1761008 ,   94.42195346,   89.58910218,  194.34268991,\n",
       "        -39.66163951,  -46.09159534,  118.3383507 , -109.71705911,\n",
       "         37.45729077,   -7.0272218 ])"
      ]
     },
     "execution_count": 26,
     "metadata": {},
     "output_type": "execute_result"
    }
   ],
   "source": [
    "y1 # Generate its correponding array."
   ]
  },
  {
   "cell_type": "markdown",
   "metadata": {},
   "source": [
    "### Dataset 2"
   ]
  },
  {
   "cell_type": "code",
   "execution_count": 27,
   "metadata": {},
   "outputs": [],
   "source": [
    "import numpy as np\n",
    "a = 0.5\n",
    "x = 100.0\n",
    "b = 30\n",
    "\n",
    "x2 = np.linspace(0.5, 100.0, 30)\n",
    "y2 = a * x + np.random.normal(0.5, 100, len(x2))"
   ]
  },
  {
   "cell_type": "code",
   "execution_count": 28,
   "metadata": {},
   "outputs": [
    {
     "data": {
      "text/plain": [
       "array([  0.5       ,   3.93103448,   7.36206897,  10.79310345,\n",
       "        14.22413793,  17.65517241,  21.0862069 ,  24.51724138,\n",
       "        27.94827586,  31.37931034,  34.81034483,  38.24137931,\n",
       "        41.67241379,  45.10344828,  48.53448276,  51.96551724,\n",
       "        55.39655172,  58.82758621,  62.25862069,  65.68965517,\n",
       "        69.12068966,  72.55172414,  75.98275862,  79.4137931 ,\n",
       "        82.84482759,  86.27586207,  89.70689655,  93.13793103,\n",
       "        96.56896552, 100.        ])"
      ]
     },
     "execution_count": 28,
     "metadata": {},
     "output_type": "execute_result"
    }
   ],
   "source": [
    "x2 # Generate an array for the second group of dataset."
   ]
  },
  {
   "cell_type": "code",
   "execution_count": 29,
   "metadata": {},
   "outputs": [
    {
     "data": {
      "text/plain": [
       "array([ 3.47161068e+01, -3.27443430e+01,  1.11538971e+02, -3.14417621e+01,\n",
       "        4.30671746e+00,  4.11575543e+00, -1.36529653e+01, -7.81831868e-02,\n",
       "        5.96825530e+01, -1.07508983e+02, -6.90612225e+01, -1.73927047e+00,\n",
       "       -1.78688871e+02,  1.00960969e+02, -1.37215301e+02,  1.02750138e+02,\n",
       "        1.00837802e+02,  9.48180306e+01, -1.83385173e+01,  1.32578512e+02,\n",
       "        1.18058154e+02,  8.67253371e+01,  2.44513700e+01, -1.04526376e+01,\n",
       "       -1.21699532e+02,  2.20299334e+02,  1.19519228e+02,  3.66496932e+01,\n",
       "        2.65602566e+01, -4.19485738e+01])"
      ]
     },
     "execution_count": 29,
     "metadata": {},
     "output_type": "execute_result"
    }
   ],
   "source": [
    "y2 # Generate its correponding array."
   ]
  },
  {
   "cell_type": "markdown",
   "metadata": {},
   "source": [
    "### Dataset 3"
   ]
  },
  {
   "cell_type": "code",
   "execution_count": 17,
   "metadata": {},
   "outputs": [],
   "source": [
    "a = 0.7\n",
    "x = 100.0\n",
    "b = 20\n",
    "\n",
    "x3 = np.linspace(0.7, 100.0, 20)\n",
    "y3 = a * x + np.random.normal(0.7, 100, len(x3))"
   ]
  },
  {
   "cell_type": "code",
   "execution_count": 49,
   "metadata": {},
   "outputs": [
    {
     "data": {
      "text/plain": [
       "array([  0.7       ,   5.92631579,  11.15263158,  16.37894737,\n",
       "        21.60526316,  26.83157895,  32.05789474,  37.28421053,\n",
       "        42.51052632,  47.73684211,  52.96315789,  58.18947368,\n",
       "        63.41578947,  68.64210526,  73.86842105,  79.09473684,\n",
       "        84.32105263,  89.54736842,  94.77368421, 100.        ])"
      ]
     },
     "execution_count": 49,
     "metadata": {},
     "output_type": "execute_result"
    }
   ],
   "source": [
    "x3 # Generate an array for the third group of dataset."
   ]
  },
  {
   "cell_type": "code",
   "execution_count": 50,
   "metadata": {},
   "outputs": [
    {
     "data": {
      "text/plain": [
       "array([161.40954765, -30.43056965,  16.92223614, -77.89333283,\n",
       "        96.47153771, 219.93144123, -63.58761445,   0.82242781,\n",
       "       -97.96399013,  72.5329445 , 187.57567241,  99.39268852,\n",
       "       300.40490307,  70.15622917,  19.57382622, 194.98093474,\n",
       "        64.34814531,  45.7946485 ,  48.06549056,  98.98813717])"
      ]
     },
     "execution_count": 50,
     "metadata": {},
     "output_type": "execute_result"
    }
   ],
   "source": [
    "y3 # Generate its correponding array."
   ]
  },
  {
   "cell_type": "markdown",
   "metadata": {},
   "source": [
    "### Dataset 4"
   ]
  },
  {
   "cell_type": "code",
   "execution_count": 51,
   "metadata": {},
   "outputs": [],
   "source": [
    "a = 0.1\n",
    "x = 100.0\n",
    "b = 20\n",
    "\n",
    "x4 = np.linspace(0.1, 100.0, 20)\n",
    "y4 = a * x + np.random.normal(0.1, 100, len(x4))"
   ]
  },
  {
   "cell_type": "code",
   "execution_count": 34,
   "metadata": {},
   "outputs": [
    {
     "data": {
      "text/plain": [
       "array([  0.1       ,   5.35789474,  10.61578947,  15.87368421,\n",
       "        21.13157895,  26.38947368,  31.64736842,  36.90526316,\n",
       "        42.16315789,  47.42105263,  52.67894737,  57.93684211,\n",
       "        63.19473684,  68.45263158,  73.71052632,  78.96842105,\n",
       "        84.22631579,  89.48421053,  94.74210526, 100.        ])"
      ]
     },
     "execution_count": 34,
     "metadata": {},
     "output_type": "execute_result"
    }
   ],
   "source": [
    "x4 # Generate an array for the fourth group of dataset."
   ]
  },
  {
   "cell_type": "code",
   "execution_count": 52,
   "metadata": {},
   "outputs": [
    {
     "data": {
      "text/plain": [
       "array([  21.45121734,  102.10383744,  -16.37623532,  198.44484337,\n",
       "        167.48483051, -124.98145734, -101.04166815,  -94.44719004,\n",
       "         -5.153727  , -149.70970491,   71.41548027,  -45.89904368,\n",
       "        168.27096057,  114.23318944, -168.32672719,   21.15414811,\n",
       "        -52.51523651, -121.24077591,  208.49805144,  -29.94366106])"
      ]
     },
     "execution_count": 52,
     "metadata": {},
     "output_type": "execute_result"
    }
   ],
   "source": [
    "y4 # Generate its correponding array."
   ]
  },
  {
   "cell_type": "markdown",
   "metadata": {},
   "source": [
    "# Generate trend"
   ]
  },
  {
   "cell_type": "code",
   "execution_count": 37,
   "metadata": {},
   "outputs": [],
   "source": [
    "%matplotlib inline\n",
    "\n",
    "import matplotlib.pyplot as plt\n",
    "import numpy as np\n",
    "import seaborn as sns\n",
    "\n",
    "plt.style.use('ggplot')\n",
    "plt.rcParams['figure.figsize'] = 14, 10\n",
    "\n"
   ]
  },
  {
   "cell_type": "markdown",
   "metadata": {},
   "source": [
    "### Dataset 1 parameters"
   ]
  },
  {
   "cell_type": "code",
   "execution_count": 38,
   "metadata": {},
   "outputs": [
    {
     "data": {
      "text/plain": [
       "<matplotlib.axes._subplots.AxesSubplot at 0x4deeaa8>"
      ]
     },
     "execution_count": 38,
     "metadata": {},
     "output_type": "execute_result"
    },
    {
     "data": {
      "image/png": "[encoded data removed]",
      "text/plain": [
       "<Figure size 1008x720 with 1 Axes>"
      ]
     },
     "metadata": {},
     "output_type": "display_data"
    }
   ],
   "source": [
    "sns.regplot(x = x1, y = y1) # Plot data and a linear regression model fit[ see references [4],\n",
    "# for first dataset parameters, to visualise trend. "
   ]
  },
  {
   "cell_type": "markdown",
   "metadata": {},
   "source": [
    "### Dataset 2 parameters"
   ]
  },
  {
   "cell_type": "code",
   "execution_count": 39,
   "metadata": {},
   "outputs": [
    {
     "data": {
      "text/plain": [
       "<matplotlib.axes._subplots.AxesSubplot at 0x4e66148>"
      ]
     },
     "execution_count": 39,
     "metadata": {},
     "output_type": "execute_result"
    },
    {
     "data": {
      "image/png": "[encoded data removed]",
      "text/plain": [
       "<Figure size 1008x720 with 1 Axes>"
      ]
     },
     "metadata": {},
     "output_type": "display_data"
    }
   ],
   "source": [
    "sns.regplot(x = x2, y = y2)# Plot data and a linear regression model fit[ see reference [4], \n",
    "# for second dataset parameters, to visualise trend. "
   ]
  },
  {
   "cell_type": "markdown",
   "metadata": {},
   "source": [
    "### Dataset 3 parameters"
   ]
  },
  {
   "cell_type": "code",
   "execution_count": 40,
   "metadata": {},
   "outputs": [
    {
     "data": {
      "text/plain": [
       "<matplotlib.axes._subplots.AxesSubplot at 0x6d797a8>"
      ]
     },
     "execution_count": 40,
     "metadata": {},
     "output_type": "execute_result"
    },
    {
     "data": {
      "image/png": "[encoded data removed]",
      "text/plain": [
       "<Figure size 1008x720 with 1 Axes>"
      ]
     },
     "metadata": {},
     "output_type": "display_data"
    }
   ],
   "source": [
    "sns.regplot(x = x3, y = y3)# Plot data and a linear regression model fit[ see reference [4], \n",
    "# for third dataset parameters, to visualise trend. "
   ]
  },
  {
   "cell_type": "markdown",
   "metadata": {},
   "source": [
    "### Dataset 4 parameters"
   ]
  },
  {
   "cell_type": "code",
   "execution_count": 41,
   "metadata": {},
   "outputs": [
    {
     "data": {
      "text/plain": [
       "<matplotlib.axes._subplots.AxesSubplot at 0x6d79aa8>"
      ]
     },
     "execution_count": 41,
     "metadata": {},
     "output_type": "execute_result"
    },
    {
     "data": {
      "image/png": "[encoded data removed]",
      "text/plain": [
       "<Figure size 1008x720 with 1 Axes>"
      ]
     },
     "metadata": {},
     "output_type": "display_data"
    }
   ],
   "source": [
    "sns.regplot( x = x4, y = y4)# Plot data and a linear regression model fit[ see reference [4], \n",
    "# for fouth dataset parameters, to visualise trend. "
   ]
  },
  {
   "cell_type": "markdown",
   "metadata": {},
   "source": [
    "# Demonstrate the Simpson's paradox by combining parameters of different groups."
   ]
  },
  {
   "cell_type": "markdown",
   "metadata": {},
   "source": [
    "### Combining Group 1 with group 2"
   ]
  },
  {
   "cell_type": "code",
   "execution_count": 42,
   "metadata": {},
   "outputs": [
    {
     "data": {
      "text/plain": [
       "<matplotlib.axes._subplots.AxesSubplot at 0x6de4ef8>"
      ]
     },
     "execution_count": 42,
     "metadata": {},
     "output_type": "execute_result"
    },
    {
     "data": {
      "image/png": "[encoded data removed]",
      "text/plain": [
       "<Figure size 1008x720 with 1 Axes>"
      ]
     },
     "metadata": {},
     "output_type": "display_data"
    }
   ],
   "source": [
    "sns.regplot(x = x1, y = x2) # Demonstrate the Simpson's paradox combining parameters of different groups(see reference[1])."
   ]
  },
  {
   "cell_type": "code",
   "execution_count": 89,
   "metadata": {},
   "outputs": [],
   "source": [
    "\n"
   ]
  },
  {
   "cell_type": "markdown",
   "metadata": {},
   "source": [
    "### Combining Group 3 with group 4"
   ]
  },
  {
   "cell_type": "code",
   "execution_count": 44,
   "metadata": {},
   "outputs": [
    {
     "data": {
      "text/plain": [
       "<matplotlib.axes._subplots.AxesSubplot at 0x4e43f40>"
      ]
     },
     "execution_count": 44,
     "metadata": {},
     "output_type": "execute_result"
    },
    {
     "data": {
      "image/png": "[encoded data removed]",
      "text/plain": [
       "<Figure size 1008x720 with 1 Axes>"
      ]
     },
     "metadata": {},
     "output_type": "display_data"
    }
   ],
   "source": [
    "sns.regplot(x = x3, y = x4) # Demonstrate the Simpson's paradox combining parameters of different groups(see reference 1). "
   ]
  },
  {
   "cell_type": "code",
   "execution_count": null,
   "metadata": {},
   "outputs": [],
   "source": []
  },
  {
   "cell_type": "markdown",
   "metadata": {},
   "source": [
    "# End"
   ]
  },
  {
   "cell_type": "markdown",
   "metadata": {},
   "source": [
    "<cr>"
   ]
  },
  {
   "cell_type": "code",
   "execution_count": null,
   "metadata": {},
   "outputs": [],
   "source": []
  }
 ],
 "metadata": {
  "kernelspec": {
   "display_name": "Python 3",
   "language": "python",
   "name": "python3"
  },
  "language_info": {
   "codemirror_mode": {
    "name": "ipython",
    "version": 3
   },
   "file_extension": ".py",
   "mimetype": "text/x-python",
   "name": "python",
   "nbconvert_exporter": "python",
   "pygments_lexer": "ipython3",
   "version": "3.8.3"
  }
 },
 "nbformat": 4,
 "nbformat_minor": 2
}

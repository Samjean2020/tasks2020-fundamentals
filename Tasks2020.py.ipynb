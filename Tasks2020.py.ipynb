{
 "cells": [
  {
   "cell_type": "markdown",
   "metadata": {},
   "source": [
    "### Tasks 2020\n",
    "### Fundamentals of Data Analysis\n",
    "### Due: last commit on or before December 18th, 2020 \n"
   ]
  },
  {
   "cell_type": "markdown",
   "metadata": {},
   "source": [
    "# These are my solutions to the Tasks assessment. The author is Jean Bonsenge (G00387887@gmit.ie). "
   ]
  },
  {
   "cell_type": "markdown",
   "metadata": {},
   "source": [
    "# Task 1"
   ]
  },
  {
   "cell_type": "markdown",
   "metadata": {},
   "source": [
    "October 5th, 2020: Write a Python function called counts that takes a list as input\n",
    "and returns a dictionary of unique items in the list as keys and the number of times \n",
    "each item appears as values. So, the input ['A', 'A', 'B', 'C', 'A'] should have output {'A': 3, 'B': 1, 'C': 1} . \n",
    "Your code should not depend on any module from the standard library or otherwise. \n",
    "You should research the task first and include a description with references of your algorithm in the notebook.\n"
   ]
  },
  {
   "cell_type": "markdown",
   "metadata": {},
   "source": [
    "# Introduction "
   ]
  },
  {
   "cell_type": "markdown",
   "metadata": {},
   "source": [
    "We can solve the above task using the dict.get() method. This approach enables the program to work more efficiently with \n",
    "minimal algorithm. The function .get() by default will return None if the key is not present [1, 2]. As a built-in function\n",
    "in Python count() will return the frequency of a specified item in list [3]. A driver function enables the Python interpreter \n",
    "to read the source code [4, 5]. "
   ]
  },
  {
   "cell_type": "markdown",
   "metadata": {},
   "source": [
    "# References"
   ]
  },
  {
   "cell_type": "markdown",
   "metadata": {},
   "source": [
    "[1] Counting the frequencies in a list using dictionary in python: https://www.geeksforgeeks.org/counting-the-frequencies-in-a-list-using-dictionary-in-python/\n",
    "\n",
    "[2] Built-in Data Structures, Functions and Files in Python for Data Analysis: \n",
    "    Data Wrangling with Pandas, NumPy, and IPython: Wes McKinney (2018) (O’ Reilly)\n",
    "\n",
    "[3] Python-list-function-count: www.geeksforgeeks.org/python-list-function-count\n",
    "\n",
    "[4] What does if __name__ == “__main__”: do? https://stackoverflow.com/questions/419163/what-does-if-name-main-do \n",
    "\n",
    "[5] File Formats Wiki “Python source file”:  https://fileformats.fandom.com/wiki/Python_source_file#:~:text=Python%20source%20files%20are%20files,up%20to%20display%20the%20output\n",
    "\n",
    "\n"
   ]
  },
  {
   "cell_type": "markdown",
   "metadata": {},
   "source": [
    "# Algorithm and comments "
   ]
  },
  {
   "cell_type": "code",
   "execution_count": 1,
   "metadata": {},
   "outputs": [
    {
     "name": "stdout",
     "output_type": "stream",
     "text": [
      "{'A': 3, 'B': 1, 'C': 1}\n"
     ]
    }
   ],
   "source": [
    "def counts(L):\n",
    "# A function that takes a list as input and returns a dictionary of unique items in the list\n",
    "# as keys and the number of times each item appears as values.\n",
    "\n",
    "# Create an empty dictionary where converted \n",
    "# list (L) will be stored. \n",
    "  count = {} \n",
    "# Set a for loop to loop over the bloc.\n",
    "  for i in [ 'A', 'A', 'B', 'C', 'A']:\n",
    "    count[i] = count.get (i, 0) +1 \n",
    "  return count\n",
    "# Use driver function to read the script.\n",
    "if __name__ == \"__main__\":\n",
    "   L = ['A', 'A', 'B', 'C', 'A']\n",
    "# Call the print () to execute the program.\n",
    "print (counts(L))\n"
   ]
  },
  {
   "cell_type": "markdown",
   "metadata": {},
   "source": [
    "# Test of the function "
   ]
  },
  {
   "cell_type": "markdown",
   "metadata": {},
   "source": [
    "Here we test the function counts, whether or not  the input ['A', 'A', 'B', 'C', 'A'] should have output {'A': 3, 'B': 1, 'C': 1}. "
   ]
  },
  {
   "cell_type": "code",
   "execution_count": 2,
   "metadata": {},
   "outputs": [
    {
     "name": "stdout",
     "output_type": "stream",
     "text": [
      "{'A': 3, 'B': 1, 'C': 1}\n"
     ]
    }
   ],
   "source": [
    "def counts(L):\n",
    "    count = {}\n",
    "    for i in [ 'A', 'A', 'B', 'C', 'A']:\n",
    "        count[i] = count.get (i, 0) +1\n",
    "    return count\n",
    "if __name__ == \"__main__\":\n",
    "    L = ['A', 'A', 'B', 'C', 'A']\n",
    "print (counts(L))"
   ]
  },
  {
   "attachments": {},
   "cell_type": "markdown",
   "metadata": {},
   "source": [
    "The expected output is as above. It comes out after executing the program for the first time.\n",
    "This program may fail when the Python function called counts()is undefined. \n"
   ]
  },
  {
   "cell_type": "markdown",
   "metadata": {},
   "source": [
    "***\n",
    "\n"
   ]
  }
 ],
 "metadata": {
  "kernelspec": {
   "display_name": "Python 3",
   "language": "python",
   "name": "python3"
  },
  "language_info": {
   "codemirror_mode": {
    "name": "ipython",
    "version": 3
   },
   "file_extension": ".py",
   "mimetype": "text/x-python",
   "name": "python",
   "nbconvert_exporter": "python",
   "pygments_lexer": "ipython3",
   "version": "3.7.4"
  }
 },
 "nbformat": 4,
 "nbformat_minor": 2
}

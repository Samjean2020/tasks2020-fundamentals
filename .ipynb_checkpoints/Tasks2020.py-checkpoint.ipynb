{
 "cells": [
  {
   "cell_type": "markdown",
   "metadata": {},
   "source": [
    "### Tasks 2020\n",
    "### Fundamentals of Data Analysis\n",
    "### Due: last commit on or before December 18th, 2020 \n"
   ]
  },
  {
   "cell_type": "markdown",
   "metadata": {},
   "source": [
    "These are my solutions to the Tasks assessment. The author is Jean Bonsenge (G00387887@gmit.ie). "
   ]
  },
  {
   "cell_type": "markdown",
   "metadata": {},
   "source": [
    "# Task 1"
   ]
  },
  {
   "cell_type": "markdown",
   "metadata": {},
   "source": [
    "October 5th, 2020: Write a Python function called counts that takes a list as input\n",
    "and returns a dictionary of unique items in the list as keys and the number of times \n",
    "each item appears as values. So, the input ['A', 'A', 'B', 'C', 'A'] should have output {'A': 3, 'B': 1, 'C': 1} . \n",
    "Your code should not depend on any module from the standard library or otherwise. \n",
    "You should research the task first and include a description with references of your algorithm in the notebook.\n"
   ]
  },
  {
   "cell_type": "markdown",
   "metadata": {},
   "source": [
    "# Introduction "
   ]
  },
  {
   "cell_type": "markdown",
   "metadata": {},
   "source": [
    "We can solve the above task using the dict.get() method. This approach enables the program to work more efficiently with \n",
    "minimal algorithm. The function .get() by default will return None if the key is not present [1, 2]. As a built-in function\n",
    "in Python count() will return the frequency of a specified item in list [3]. A driver function enables the Python interpreter \n",
    "to read the source code [4, 5]. "
   ]
  },
  {
   "cell_type": "markdown",
   "metadata": {},
   "source": [
    "# References"
   ]
  },
  {
   "cell_type": "markdown",
   "metadata": {},
   "source": [
    "[1] Counting the frequencies in a list using dictionary in python: https://www.geeksforgeeks.org/counting-the-frequencies-in-a-list-using-dictionary-in-python/\n",
    "\n",
    "[2] Built-in Data Structures, Functions and Files in Python for Data Analysis: \n",
    "    Data Wrangling with Pandas, NumPy, and IPython: Wes McKinney (2018) (O’ Reilly)\n",
    "\n",
    "[3] Python-list-function-count: www.geeksforgeeks.org/python-list-function-count\n",
    "\n",
    "[4] What does if __name__ == “__main__”: do? https://stackoverflow.com/questions/419163/what-does-if-name-main-do \n",
    "\n",
    "[5] File Formats Wiki “Python source file”:  https://fileformats.fandom.com/wiki/Python_source_file#:~:text=Python%20source%20files%20are%20files,up%20to%20display%20the%20output\n",
    "\n",
    "\n"
   ]
  },
  {
   "cell_type": "markdown",
   "metadata": {},
   "source": [
    "# Algorithm and comments "
   ]
  },
  {
   "cell_type": "code",
   "execution_count": 1,
   "metadata": {},
   "outputs": [
    {
     "name": "stdout",
     "output_type": "stream",
     "text": [
      "{'A': 3, 'B': 1, 'C': 1}\n"
     ]
    }
   ],
   "source": [
    "def counts(L):\n",
    "# A function that takes a list as input and returns a dictionary of unique items in the list\n",
    "# as keys and the number of times each item appears as values.\n",
    "\n",
    "# Create an empty dictionary where converted \n",
    "# list (L) will be stored. \n",
    "  count = {} \n",
    "# Set a for loop to loop over the bloc.\n",
    "  for i in [ 'A', 'A', 'B', 'C', 'A']:\n",
    "    count[i] = count.get (i, 0) +1 \n",
    "  return count\n",
    "# Use driver function to read the script.\n",
    "if __name__ == \"__main__\":\n",
    "   L = ['A', 'A', 'B', 'C', 'A']\n",
    "# Call the print () to execute the program.\n",
    "print (counts(L))\n"
   ]
  },
  {
   "cell_type": "markdown",
   "metadata": {},
   "source": [
    "# Test of the function "
   ]
  },
  {
   "cell_type": "markdown",
   "metadata": {},
   "source": [
    "Here we test the function counts, whether or not  the input ['A', 'A', 'B', 'C', 'A'] should have output {'A': 3, 'B': 1, 'C': 1}. "
   ]
  },
  {
   "cell_type": "code",
   "execution_count": 2,
   "metadata": {},
   "outputs": [
    {
     "name": "stdout",
     "output_type": "stream",
     "text": [
      "{'A': 3, 'B': 1, 'C': 1}\n"
     ]
    }
   ],
   "source": [
    "def counts(L):\n",
    "    count = {}\n",
    "    for i in [ 'A', 'A', 'B', 'C', 'A']:\n",
    "        count[i] = count.get (i, 0) +1\n",
    "    return count\n",
    "if __name__ == \"__main__\":\n",
    "    L = ['A', 'A', 'B', 'C', 'A']\n",
    "print (counts(L))"
   ]
  },
  {
   "cell_type": "markdown",
   "metadata": {},
   "source": [
    "The expected output is as above. It comes out after executing the program for the first time.\n",
    "This program may fail when the Python function called counts()is undefined. \n"
   ]
  },
  {
   "cell_type": "markdown",
   "metadata": {},
   "source": [
    "<cr>"
   ]
  },
  {
   "cell_type": "markdown",
   "metadata": {},
   "source": [
    "# Task 2 "
   ]
  },
  {
   "cell_type": "markdown",
   "metadata": {},
   "source": [
    "November 2nd 2020: Write a Python function called dicerolls that simulates rooling dice.\n",
    "Your function should take two parameters: the number of dice K and the number of\n",
    "times to roll the dice n. The function should simulate randomly rolling K dice n times, \n",
    "keeping track of each total face value. It should return a dictionary with\n",
    "the number of times each possible total face value occured. So, calling the function \n",
    "dicerolls(K=2, n=1000) should return a dictionary like:\n",
    "\n",
    "{2:19, 3:50, 4: 82, 5:112, 6:135, 7:174, 8:133, 9:114, 10:75, 11:70, 12:36}\n",
    "\n",
    "You can use any module from the Python standard library you wish and you shoul include\n",
    "a description with refrences of your alogorithm in the notebook. "
   ]
  },
  {
   "cell_type": "markdown",
   "metadata": {},
   "source": [
    "## Introduction"
   ]
  },
  {
   "cell_type": "markdown",
   "metadata": {},
   "source": [
    "We can solve the above task using the defined function dicerolls including its 2 parameters on the argument as follows: def dicerolls (k=2, n=1000). We have to create a variable contained an empty dictionary to accommodate frequencies of rooling dice simulation. The algorithm below works well[1]; but needs the function dicerolls (k=2, n=1000) incorporated. \n"
   ]
  },
  {
   "cell_type": "markdown",
   "metadata": {},
   "source": [
    "## References"
   ]
  },
  {
   "cell_type": "markdown",
   "metadata": {},
   "source": [
    "[1]. Stack Overflow:  Rolling 2 dice 1000 times and counting the number of times the sum of the two dice hit: https://stackoverflow.com/questions/60343980/rolling-2-dice-1000-times-and-counting-the-number-of-times-the-sum-of-the-two-di"
   ]
  },
  {
   "cell_type": "code",
   "execution_count": 3,
   "metadata": {},
   "outputs": [
    {
     "name": "stdout",
     "output_type": "stream",
     "text": [
      "defaultdict(<class 'int'>, {11: 57, 5: 123, 4: 68, 8: 131, 6: 139, 9: 122, 10: 81, 7: 174, 2: 26, 3: 57, 12: 22})\n"
     ]
    }
   ],
   "source": [
    "from collections import defaultdict\n",
    "from random import randint\n",
    "\n",
    "# Roll the two dice how many times?\n",
    "n = 1000\n",
    "\n",
    "# Create a dictionary to store the results\n",
    "results = defaultdict(int)\n",
    "\n",
    "# Loop n times\n",
    "for _ in range(n):\n",
    "    # Get random numbers for the two dice\n",
    "    die_1 = randint(1, 6)\n",
    "    die_2 = randint(1, 6)\n",
    "    # Increase the corresponding result by 1\n",
    "    results[die_1 + die_2] += 1\n",
    "\n",
    "# Print results\n",
    "print(results)\n"
   ]
  },
  {
   "cell_type": "markdown",
   "metadata": {},
   "source": [
    "## Test the algorithm"
   ]
  },
  {
   "cell_type": "code",
   "execution_count": 4,
   "metadata": {},
   "outputs": [
    {
     "name": "stdout",
     "output_type": "stream",
     "text": [
      "defaultdict(<class 'int'>, {10: 69, 9: 103, 6: 166, 5: 99, 8: 131, 11: 60, 7: 166, 3: 67, 2: 41, 4: 78, 12: 20})\n"
     ]
    }
   ],
   "source": [
    "from collections import defaultdict\n",
    "from random import randint\n",
    "\n",
    "# Roll the two dice how many times?\n",
    "n = 1000\n",
    "\n",
    "# Create a dictionary to store the results\n",
    "results = defaultdict(int)\n",
    "\n",
    "# Loop n times\n",
    "for _ in range(n):\n",
    "    # Get random numbers for the two dice\n",
    "    die_1 = randint(1, 6)\n",
    "    die_2 = randint(1, 6)\n",
    "    # Increase the corresponding result by 1\n",
    "    results[die_1 + die_2] += 1\n",
    "\n",
    "# Print results\n",
    "print(results)\n"
   ]
  },
  {
   "cell_type": "markdown",
   "metadata": {},
   "source": [
    "<cr>"
   ]
  },
  {
   "cell_type": "markdown",
   "metadata": {},
   "source": [
    "# Task 3"
   ]
  },
  {
   "cell_type": "markdown",
   "metadata": {},
   "source": [
    "November 16th, 2020: The numpy.random.binomial function can be used to\n",
    "simulate flipping a coin with a 50/50 chance of heads or tails. Interestingly, if a\n",
    "coin is flipped many times then the number of heads is well approximated by a\n",
    "bell-shaped curve. For instance, if we flip a coin 100 times in a row the chance of\n",
    "getting 50 heads is relatively high, the chances of getting 0 or 100 heads is relatively\n",
    "low, and the chances of getting any other number of heads decreases as you move\n",
    "away from 50 in either direction towards 0 or 100. Write some python code that\n",
    "simulates flipping a coin 100 times. Then run this code 1,000 times, keeping track\n",
    "of the number of heads in each of the 1,000 simulations. Select an appropriate\n",
    "plot to depict the resulting list of 1,000 numbers, showing that it roughly follows\n",
    "a bell-shaped curve. You should explain your work in a Markdown cell above the\n",
    "code."
   ]
  },
  {
   "cell_type": "markdown",
   "metadata": {},
   "source": [
    "## Introduction"
   ]
  },
  {
   "cell_type": "markdown",
   "metadata": {},
   "source": [
    "## References"
   ]
  },
  {
   "cell_type": "markdown",
   "metadata": {},
   "source": [
    "## Test the algorithm"
   ]
  },
  {
   "cell_type": "code",
   "execution_count": null,
   "metadata": {},
   "outputs": [],
   "source": []
  }
 ],
 "metadata": {
  "kernelspec": {
   "display_name": "Python 3",
   "language": "python",
   "name": "python3"
  },
  "language_info": {
   "codemirror_mode": {
    "name": "ipython",
    "version": 3
   },
   "file_extension": ".py",
   "mimetype": "text/x-python",
   "name": "python",
   "nbconvert_exporter": "python",
   "pygments_lexer": "ipython3",
   "version": "3.8.3"
  }
 },
 "nbformat": 4,
 "nbformat_minor": 2
}
